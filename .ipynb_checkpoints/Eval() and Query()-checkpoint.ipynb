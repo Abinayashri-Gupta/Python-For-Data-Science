{
 "cells": [
  {
   "cell_type": "code",
   "execution_count": 2,
   "id": "73acde4e",
   "metadata": {},
   "outputs": [],
   "source": [
    "import numpy as np\n",
    "import pandas as pd\n",
    "nrows,ncols = 100000, 100\n",
    "rng = np.random.RandomState(42)\n",
    "df1, df2, df3, df4 = (pd.DataFrame(rng.rand(nrows,ncols))for i in range(4))"
   ]
  },
  {
   "cell_type": "markdown",
   "id": "b08dde3b",
   "metadata": {},
   "source": [
    " df1, df2, df3, df4 = (pd.DataFrame(rng.rand(nrows,ncols))for i in range(4))                \n",
    "here we use rng to reduce                                                                       \n",
    "execution time instead of calling everytime                                                   \n",
    "then now we use rand function                                                                          \n",
    "to populate with random values                                                                    \n",
    "now we use for loop to do the same for all 4 datasets                                      \n",
    "(nrows,ncols) are used so we create a dataset with 10000 rows and 100 columns of each"
   ]
  },
  {
   "cell_type": "code",
   "execution_count": 3,
   "id": "6d909f2f",
   "metadata": {},
   "outputs": [
    {
     "data": {
      "text/html": [
       "<div>\n",
       "<style scoped>\n",
       "    .dataframe tbody tr th:only-of-type {\n",
       "        vertical-align: middle;\n",
       "    }\n",
       "\n",
       "    .dataframe tbody tr th {\n",
       "        vertical-align: top;\n",
       "    }\n",
       "\n",
       "    .dataframe thead th {\n",
       "        text-align: right;\n",
       "    }\n",
       "</style>\n",
       "<table border=\"1\" class=\"dataframe\">\n",
       "  <thead>\n",
       "    <tr style=\"text-align: right;\">\n",
       "      <th></th>\n",
       "      <th>0</th>\n",
       "      <th>1</th>\n",
       "      <th>2</th>\n",
       "      <th>3</th>\n",
       "      <th>4</th>\n",
       "      <th>5</th>\n",
       "      <th>6</th>\n",
       "      <th>7</th>\n",
       "      <th>8</th>\n",
       "      <th>9</th>\n",
       "      <th>...</th>\n",
       "      <th>90</th>\n",
       "      <th>91</th>\n",
       "      <th>92</th>\n",
       "      <th>93</th>\n",
       "      <th>94</th>\n",
       "      <th>95</th>\n",
       "      <th>96</th>\n",
       "      <th>97</th>\n",
       "      <th>98</th>\n",
       "      <th>99</th>\n",
       "    </tr>\n",
       "  </thead>\n",
       "  <tbody>\n",
       "    <tr>\n",
       "      <th>0</th>\n",
       "      <td>0.374540</td>\n",
       "      <td>0.950714</td>\n",
       "      <td>0.731994</td>\n",
       "      <td>0.598658</td>\n",
       "      <td>0.156019</td>\n",
       "      <td>0.155995</td>\n",
       "      <td>0.058084</td>\n",
       "      <td>0.866176</td>\n",
       "      <td>0.601115</td>\n",
       "      <td>0.708073</td>\n",
       "      <td>...</td>\n",
       "      <td>0.119594</td>\n",
       "      <td>0.713245</td>\n",
       "      <td>0.760785</td>\n",
       "      <td>0.561277</td>\n",
       "      <td>0.770967</td>\n",
       "      <td>0.493796</td>\n",
       "      <td>0.522733</td>\n",
       "      <td>0.427541</td>\n",
       "      <td>0.025419</td>\n",
       "      <td>0.107891</td>\n",
       "    </tr>\n",
       "    <tr>\n",
       "      <th>1</th>\n",
       "      <td>0.031429</td>\n",
       "      <td>0.636410</td>\n",
       "      <td>0.314356</td>\n",
       "      <td>0.508571</td>\n",
       "      <td>0.907566</td>\n",
       "      <td>0.249292</td>\n",
       "      <td>0.410383</td>\n",
       "      <td>0.755551</td>\n",
       "      <td>0.228798</td>\n",
       "      <td>0.076980</td>\n",
       "      <td>...</td>\n",
       "      <td>0.093103</td>\n",
       "      <td>0.897216</td>\n",
       "      <td>0.900418</td>\n",
       "      <td>0.633101</td>\n",
       "      <td>0.339030</td>\n",
       "      <td>0.349210</td>\n",
       "      <td>0.725956</td>\n",
       "      <td>0.897110</td>\n",
       "      <td>0.887086</td>\n",
       "      <td>0.779876</td>\n",
       "    </tr>\n",
       "    <tr>\n",
       "      <th>2</th>\n",
       "      <td>0.642032</td>\n",
       "      <td>0.084140</td>\n",
       "      <td>0.161629</td>\n",
       "      <td>0.898554</td>\n",
       "      <td>0.606429</td>\n",
       "      <td>0.009197</td>\n",
       "      <td>0.101472</td>\n",
       "      <td>0.663502</td>\n",
       "      <td>0.005062</td>\n",
       "      <td>0.160808</td>\n",
       "      <td>...</td>\n",
       "      <td>0.030500</td>\n",
       "      <td>0.037348</td>\n",
       "      <td>0.822601</td>\n",
       "      <td>0.360191</td>\n",
       "      <td>0.127061</td>\n",
       "      <td>0.522243</td>\n",
       "      <td>0.769994</td>\n",
       "      <td>0.215821</td>\n",
       "      <td>0.622890</td>\n",
       "      <td>0.085347</td>\n",
       "    </tr>\n",
       "    <tr>\n",
       "      <th>3</th>\n",
       "      <td>0.051682</td>\n",
       "      <td>0.531355</td>\n",
       "      <td>0.540635</td>\n",
       "      <td>0.637430</td>\n",
       "      <td>0.726091</td>\n",
       "      <td>0.975852</td>\n",
       "      <td>0.516300</td>\n",
       "      <td>0.322956</td>\n",
       "      <td>0.795186</td>\n",
       "      <td>0.270832</td>\n",
       "      <td>...</td>\n",
       "      <td>0.990505</td>\n",
       "      <td>0.412618</td>\n",
       "      <td>0.372018</td>\n",
       "      <td>0.776413</td>\n",
       "      <td>0.340804</td>\n",
       "      <td>0.930757</td>\n",
       "      <td>0.858413</td>\n",
       "      <td>0.428994</td>\n",
       "      <td>0.750871</td>\n",
       "      <td>0.754543</td>\n",
       "    </tr>\n",
       "    <tr>\n",
       "      <th>4</th>\n",
       "      <td>0.103124</td>\n",
       "      <td>0.902553</td>\n",
       "      <td>0.505252</td>\n",
       "      <td>0.826457</td>\n",
       "      <td>0.320050</td>\n",
       "      <td>0.895523</td>\n",
       "      <td>0.389202</td>\n",
       "      <td>0.010838</td>\n",
       "      <td>0.905382</td>\n",
       "      <td>0.091287</td>\n",
       "      <td>...</td>\n",
       "      <td>0.455657</td>\n",
       "      <td>0.620133</td>\n",
       "      <td>0.277381</td>\n",
       "      <td>0.188121</td>\n",
       "      <td>0.463698</td>\n",
       "      <td>0.353352</td>\n",
       "      <td>0.583656</td>\n",
       "      <td>0.077735</td>\n",
       "      <td>0.974395</td>\n",
       "      <td>0.986211</td>\n",
       "    </tr>\n",
       "    <tr>\n",
       "      <th>...</th>\n",
       "      <td>...</td>\n",
       "      <td>...</td>\n",
       "      <td>...</td>\n",
       "      <td>...</td>\n",
       "      <td>...</td>\n",
       "      <td>...</td>\n",
       "      <td>...</td>\n",
       "      <td>...</td>\n",
       "      <td>...</td>\n",
       "      <td>...</td>\n",
       "      <td>...</td>\n",
       "      <td>...</td>\n",
       "      <td>...</td>\n",
       "      <td>...</td>\n",
       "      <td>...</td>\n",
       "      <td>...</td>\n",
       "      <td>...</td>\n",
       "      <td>...</td>\n",
       "      <td>...</td>\n",
       "      <td>...</td>\n",
       "      <td>...</td>\n",
       "    </tr>\n",
       "    <tr>\n",
       "      <th>99995</th>\n",
       "      <td>0.071979</td>\n",
       "      <td>0.439323</td>\n",
       "      <td>0.188588</td>\n",
       "      <td>0.586705</td>\n",
       "      <td>0.640611</td>\n",
       "      <td>0.662409</td>\n",
       "      <td>0.318503</td>\n",
       "      <td>0.600419</td>\n",
       "      <td>0.609742</td>\n",
       "      <td>0.390592</td>\n",
       "      <td>...</td>\n",
       "      <td>0.122887</td>\n",
       "      <td>0.491140</td>\n",
       "      <td>0.032855</td>\n",
       "      <td>0.567250</td>\n",
       "      <td>0.428673</td>\n",
       "      <td>0.421092</td>\n",
       "      <td>0.021024</td>\n",
       "      <td>0.398596</td>\n",
       "      <td>0.405897</td>\n",
       "      <td>0.869783</td>\n",
       "    </tr>\n",
       "    <tr>\n",
       "      <th>99996</th>\n",
       "      <td>0.313411</td>\n",
       "      <td>0.010490</td>\n",
       "      <td>0.469216</td>\n",
       "      <td>0.600825</td>\n",
       "      <td>0.451085</td>\n",
       "      <td>0.496918</td>\n",
       "      <td>0.983128</td>\n",
       "      <td>0.422056</td>\n",
       "      <td>0.719077</td>\n",
       "      <td>0.045588</td>\n",
       "      <td>...</td>\n",
       "      <td>0.072444</td>\n",
       "      <td>0.715574</td>\n",
       "      <td>0.300257</td>\n",
       "      <td>0.087290</td>\n",
       "      <td>0.130703</td>\n",
       "      <td>0.549202</td>\n",
       "      <td>0.287877</td>\n",
       "      <td>0.589258</td>\n",
       "      <td>0.516884</td>\n",
       "      <td>0.254370</td>\n",
       "    </tr>\n",
       "    <tr>\n",
       "      <th>99997</th>\n",
       "      <td>0.560873</td>\n",
       "      <td>0.647396</td>\n",
       "      <td>0.043068</td>\n",
       "      <td>0.282439</td>\n",
       "      <td>0.042950</td>\n",
       "      <td>0.346690</td>\n",
       "      <td>0.954034</td>\n",
       "      <td>0.603182</td>\n",
       "      <td>0.447768</td>\n",
       "      <td>0.888498</td>\n",
       "      <td>...</td>\n",
       "      <td>0.880079</td>\n",
       "      <td>0.508377</td>\n",
       "      <td>0.442052</td>\n",
       "      <td>0.621332</td>\n",
       "      <td>0.314942</td>\n",
       "      <td>0.131085</td>\n",
       "      <td>0.697310</td>\n",
       "      <td>0.111705</td>\n",
       "      <td>0.397560</td>\n",
       "      <td>0.988347</td>\n",
       "    </tr>\n",
       "    <tr>\n",
       "      <th>99998</th>\n",
       "      <td>0.710115</td>\n",
       "      <td>0.067999</td>\n",
       "      <td>0.611329</td>\n",
       "      <td>0.136199</td>\n",
       "      <td>0.054724</td>\n",
       "      <td>0.018160</td>\n",
       "      <td>0.911428</td>\n",
       "      <td>0.762005</td>\n",
       "      <td>0.245312</td>\n",
       "      <td>0.891027</td>\n",
       "      <td>...</td>\n",
       "      <td>0.249632</td>\n",
       "      <td>0.894231</td>\n",
       "      <td>0.342761</td>\n",
       "      <td>0.844330</td>\n",
       "      <td>0.659797</td>\n",
       "      <td>0.835561</td>\n",
       "      <td>0.117920</td>\n",
       "      <td>0.211202</td>\n",
       "      <td>0.931760</td>\n",
       "      <td>0.296913</td>\n",
       "    </tr>\n",
       "    <tr>\n",
       "      <th>99999</th>\n",
       "      <td>0.116834</td>\n",
       "      <td>0.461155</td>\n",
       "      <td>0.754556</td>\n",
       "      <td>0.250272</td>\n",
       "      <td>0.864631</td>\n",
       "      <td>0.588966</td>\n",
       "      <td>0.358260</td>\n",
       "      <td>0.655541</td>\n",
       "      <td>0.946702</td>\n",
       "      <td>0.145819</td>\n",
       "      <td>...</td>\n",
       "      <td>0.298095</td>\n",
       "      <td>0.496018</td>\n",
       "      <td>0.990856</td>\n",
       "      <td>0.368719</td>\n",
       "      <td>0.837910</td>\n",
       "      <td>0.244971</td>\n",
       "      <td>0.061637</td>\n",
       "      <td>0.933295</td>\n",
       "      <td>0.245149</td>\n",
       "      <td>0.388890</td>\n",
       "    </tr>\n",
       "  </tbody>\n",
       "</table>\n",
       "<p>100000 rows × 100 columns</p>\n",
       "</div>"
      ],
      "text/plain": [
       "             0         1         2         3         4         5         6   \\\n",
       "0      0.374540  0.950714  0.731994  0.598658  0.156019  0.155995  0.058084   \n",
       "1      0.031429  0.636410  0.314356  0.508571  0.907566  0.249292  0.410383   \n",
       "2      0.642032  0.084140  0.161629  0.898554  0.606429  0.009197  0.101472   \n",
       "3      0.051682  0.531355  0.540635  0.637430  0.726091  0.975852  0.516300   \n",
       "4      0.103124  0.902553  0.505252  0.826457  0.320050  0.895523  0.389202   \n",
       "...         ...       ...       ...       ...       ...       ...       ...   \n",
       "99995  0.071979  0.439323  0.188588  0.586705  0.640611  0.662409  0.318503   \n",
       "99996  0.313411  0.010490  0.469216  0.600825  0.451085  0.496918  0.983128   \n",
       "99997  0.560873  0.647396  0.043068  0.282439  0.042950  0.346690  0.954034   \n",
       "99998  0.710115  0.067999  0.611329  0.136199  0.054724  0.018160  0.911428   \n",
       "99999  0.116834  0.461155  0.754556  0.250272  0.864631  0.588966  0.358260   \n",
       "\n",
       "             7         8         9   ...        90        91        92  \\\n",
       "0      0.866176  0.601115  0.708073  ...  0.119594  0.713245  0.760785   \n",
       "1      0.755551  0.228798  0.076980  ...  0.093103  0.897216  0.900418   \n",
       "2      0.663502  0.005062  0.160808  ...  0.030500  0.037348  0.822601   \n",
       "3      0.322956  0.795186  0.270832  ...  0.990505  0.412618  0.372018   \n",
       "4      0.010838  0.905382  0.091287  ...  0.455657  0.620133  0.277381   \n",
       "...         ...       ...       ...  ...       ...       ...       ...   \n",
       "99995  0.600419  0.609742  0.390592  ...  0.122887  0.491140  0.032855   \n",
       "99996  0.422056  0.719077  0.045588  ...  0.072444  0.715574  0.300257   \n",
       "99997  0.603182  0.447768  0.888498  ...  0.880079  0.508377  0.442052   \n",
       "99998  0.762005  0.245312  0.891027  ...  0.249632  0.894231  0.342761   \n",
       "99999  0.655541  0.946702  0.145819  ...  0.298095  0.496018  0.990856   \n",
       "\n",
       "             93        94        95        96        97        98        99  \n",
       "0      0.561277  0.770967  0.493796  0.522733  0.427541  0.025419  0.107891  \n",
       "1      0.633101  0.339030  0.349210  0.725956  0.897110  0.887086  0.779876  \n",
       "2      0.360191  0.127061  0.522243  0.769994  0.215821  0.622890  0.085347  \n",
       "3      0.776413  0.340804  0.930757  0.858413  0.428994  0.750871  0.754543  \n",
       "4      0.188121  0.463698  0.353352  0.583656  0.077735  0.974395  0.986211  \n",
       "...         ...       ...       ...       ...       ...       ...       ...  \n",
       "99995  0.567250  0.428673  0.421092  0.021024  0.398596  0.405897  0.869783  \n",
       "99996  0.087290  0.130703  0.549202  0.287877  0.589258  0.516884  0.254370  \n",
       "99997  0.621332  0.314942  0.131085  0.697310  0.111705  0.397560  0.988347  \n",
       "99998  0.844330  0.659797  0.835561  0.117920  0.211202  0.931760  0.296913  \n",
       "99999  0.368719  0.837910  0.244971  0.061637  0.933295  0.245149  0.388890  \n",
       "\n",
       "[100000 rows x 100 columns]"
      ]
     },
     "execution_count": 3,
     "metadata": {},
     "output_type": "execute_result"
    }
   ],
   "source": [
    "df1"
   ]
  },
  {
   "cell_type": "code",
   "execution_count": 4,
   "id": "9ebb960a",
   "metadata": {},
   "outputs": [
    {
     "data": {
      "text/html": [
       "<div>\n",
       "<style scoped>\n",
       "    .dataframe tbody tr th:only-of-type {\n",
       "        vertical-align: middle;\n",
       "    }\n",
       "\n",
       "    .dataframe tbody tr th {\n",
       "        vertical-align: top;\n",
       "    }\n",
       "\n",
       "    .dataframe thead th {\n",
       "        text-align: right;\n",
       "    }\n",
       "</style>\n",
       "<table border=\"1\" class=\"dataframe\">\n",
       "  <thead>\n",
       "    <tr style=\"text-align: right;\">\n",
       "      <th></th>\n",
       "      <th>0</th>\n",
       "      <th>1</th>\n",
       "      <th>2</th>\n",
       "      <th>3</th>\n",
       "      <th>4</th>\n",
       "      <th>5</th>\n",
       "      <th>6</th>\n",
       "      <th>7</th>\n",
       "      <th>8</th>\n",
       "      <th>9</th>\n",
       "      <th>...</th>\n",
       "      <th>90</th>\n",
       "      <th>91</th>\n",
       "      <th>92</th>\n",
       "      <th>93</th>\n",
       "      <th>94</th>\n",
       "      <th>95</th>\n",
       "      <th>96</th>\n",
       "      <th>97</th>\n",
       "      <th>98</th>\n",
       "      <th>99</th>\n",
       "    </tr>\n",
       "  </thead>\n",
       "  <tbody>\n",
       "    <tr>\n",
       "      <th>0</th>\n",
       "      <td>0.926538</td>\n",
       "      <td>0.382461</td>\n",
       "      <td>0.871469</td>\n",
       "      <td>0.761471</td>\n",
       "      <td>0.328826</td>\n",
       "      <td>0.988821</td>\n",
       "      <td>0.120738</td>\n",
       "      <td>0.358905</td>\n",
       "      <td>0.954462</td>\n",
       "      <td>0.004711</td>\n",
       "      <td>...</td>\n",
       "      <td>0.310465</td>\n",
       "      <td>0.816988</td>\n",
       "      <td>0.930747</td>\n",
       "      <td>0.111477</td>\n",
       "      <td>0.772517</td>\n",
       "      <td>0.801181</td>\n",
       "      <td>0.466825</td>\n",
       "      <td>0.005912</td>\n",
       "      <td>0.705110</td>\n",
       "      <td>0.487674</td>\n",
       "    </tr>\n",
       "    <tr>\n",
       "      <th>1</th>\n",
       "      <td>0.715167</td>\n",
       "      <td>0.490948</td>\n",
       "      <td>0.904532</td>\n",
       "      <td>0.319521</td>\n",
       "      <td>0.582585</td>\n",
       "      <td>0.980330</td>\n",
       "      <td>0.019068</td>\n",
       "      <td>0.089363</td>\n",
       "      <td>0.281105</td>\n",
       "      <td>0.143648</td>\n",
       "      <td>...</td>\n",
       "      <td>0.433028</td>\n",
       "      <td>0.132540</td>\n",
       "      <td>0.263659</td>\n",
       "      <td>0.339079</td>\n",
       "      <td>0.234842</td>\n",
       "      <td>0.507921</td>\n",
       "      <td>0.544545</td>\n",
       "      <td>0.197424</td>\n",
       "      <td>0.432392</td>\n",
       "      <td>0.218104</td>\n",
       "    </tr>\n",
       "    <tr>\n",
       "      <th>2</th>\n",
       "      <td>0.975796</td>\n",
       "      <td>0.049902</td>\n",
       "      <td>0.092684</td>\n",
       "      <td>0.158453</td>\n",
       "      <td>0.858309</td>\n",
       "      <td>0.652550</td>\n",
       "      <td>0.681106</td>\n",
       "      <td>0.360168</td>\n",
       "      <td>0.843117</td>\n",
       "      <td>0.619341</td>\n",
       "      <td>...</td>\n",
       "      <td>0.156821</td>\n",
       "      <td>0.772316</td>\n",
       "      <td>0.412088</td>\n",
       "      <td>0.796167</td>\n",
       "      <td>0.548580</td>\n",
       "      <td>0.722526</td>\n",
       "      <td>0.141587</td>\n",
       "      <td>0.459266</td>\n",
       "      <td>0.128221</td>\n",
       "      <td>0.661666</td>\n",
       "    </tr>\n",
       "    <tr>\n",
       "      <th>3</th>\n",
       "      <td>0.369458</td>\n",
       "      <td>0.911366</td>\n",
       "      <td>0.892686</td>\n",
       "      <td>0.763454</td>\n",
       "      <td>0.581681</td>\n",
       "      <td>0.207756</td>\n",
       "      <td>0.024249</td>\n",
       "      <td>0.925860</td>\n",
       "      <td>0.191849</td>\n",
       "      <td>0.047043</td>\n",
       "      <td>...</td>\n",
       "      <td>0.313598</td>\n",
       "      <td>0.566552</td>\n",
       "      <td>0.844425</td>\n",
       "      <td>0.079068</td>\n",
       "      <td>0.338430</td>\n",
       "      <td>0.921877</td>\n",
       "      <td>0.856621</td>\n",
       "      <td>0.285027</td>\n",
       "      <td>0.505441</td>\n",
       "      <td>0.571166</td>\n",
       "    </tr>\n",
       "    <tr>\n",
       "      <th>4</th>\n",
       "      <td>0.794953</td>\n",
       "      <td>0.714644</td>\n",
       "      <td>0.652743</td>\n",
       "      <td>0.639999</td>\n",
       "      <td>0.801813</td>\n",
       "      <td>0.223324</td>\n",
       "      <td>0.468607</td>\n",
       "      <td>0.409739</td>\n",
       "      <td>0.846211</td>\n",
       "      <td>0.488558</td>\n",
       "      <td>...</td>\n",
       "      <td>0.349061</td>\n",
       "      <td>0.986111</td>\n",
       "      <td>0.389271</td>\n",
       "      <td>0.428010</td>\n",
       "      <td>0.645183</td>\n",
       "      <td>0.998789</td>\n",
       "      <td>0.805533</td>\n",
       "      <td>0.310009</td>\n",
       "      <td>0.876316</td>\n",
       "      <td>0.946936</td>\n",
       "    </tr>\n",
       "    <tr>\n",
       "      <th>...</th>\n",
       "      <td>...</td>\n",
       "      <td>...</td>\n",
       "      <td>...</td>\n",
       "      <td>...</td>\n",
       "      <td>...</td>\n",
       "      <td>...</td>\n",
       "      <td>...</td>\n",
       "      <td>...</td>\n",
       "      <td>...</td>\n",
       "      <td>...</td>\n",
       "      <td>...</td>\n",
       "      <td>...</td>\n",
       "      <td>...</td>\n",
       "      <td>...</td>\n",
       "      <td>...</td>\n",
       "      <td>...</td>\n",
       "      <td>...</td>\n",
       "      <td>...</td>\n",
       "      <td>...</td>\n",
       "      <td>...</td>\n",
       "      <td>...</td>\n",
       "    </tr>\n",
       "    <tr>\n",
       "      <th>99995</th>\n",
       "      <td>0.973490</td>\n",
       "      <td>0.631437</td>\n",
       "      <td>0.720622</td>\n",
       "      <td>0.141930</td>\n",
       "      <td>0.355449</td>\n",
       "      <td>0.638325</td>\n",
       "      <td>0.599268</td>\n",
       "      <td>0.267570</td>\n",
       "      <td>0.715158</td>\n",
       "      <td>0.909540</td>\n",
       "      <td>...</td>\n",
       "      <td>0.720632</td>\n",
       "      <td>0.069631</td>\n",
       "      <td>0.567910</td>\n",
       "      <td>0.373837</td>\n",
       "      <td>0.513205</td>\n",
       "      <td>0.318192</td>\n",
       "      <td>0.354705</td>\n",
       "      <td>0.785753</td>\n",
       "      <td>0.625627</td>\n",
       "      <td>0.893857</td>\n",
       "    </tr>\n",
       "    <tr>\n",
       "      <th>99996</th>\n",
       "      <td>0.704523</td>\n",
       "      <td>0.936341</td>\n",
       "      <td>0.711619</td>\n",
       "      <td>0.495312</td>\n",
       "      <td>0.029808</td>\n",
       "      <td>0.207772</td>\n",
       "      <td>0.673689</td>\n",
       "      <td>0.776497</td>\n",
       "      <td>0.871136</td>\n",
       "      <td>0.088103</td>\n",
       "      <td>...</td>\n",
       "      <td>0.636035</td>\n",
       "      <td>0.532702</td>\n",
       "      <td>0.744088</td>\n",
       "      <td>0.741955</td>\n",
       "      <td>0.967174</td>\n",
       "      <td>0.998244</td>\n",
       "      <td>0.632177</td>\n",
       "      <td>0.080062</td>\n",
       "      <td>0.289840</td>\n",
       "      <td>0.382859</td>\n",
       "    </tr>\n",
       "    <tr>\n",
       "      <th>99997</th>\n",
       "      <td>0.649755</td>\n",
       "      <td>0.352855</td>\n",
       "      <td>0.114277</td>\n",
       "      <td>0.826643</td>\n",
       "      <td>0.763885</td>\n",
       "      <td>0.168768</td>\n",
       "      <td>0.404275</td>\n",
       "      <td>0.079896</td>\n",
       "      <td>0.169630</td>\n",
       "      <td>0.953930</td>\n",
       "      <td>...</td>\n",
       "      <td>0.352673</td>\n",
       "      <td>0.635799</td>\n",
       "      <td>0.674737</td>\n",
       "      <td>0.290065</td>\n",
       "      <td>0.463327</td>\n",
       "      <td>0.358685</td>\n",
       "      <td>0.952076</td>\n",
       "      <td>0.979473</td>\n",
       "      <td>0.186088</td>\n",
       "      <td>0.000481</td>\n",
       "    </tr>\n",
       "    <tr>\n",
       "      <th>99998</th>\n",
       "      <td>0.975367</td>\n",
       "      <td>0.295327</td>\n",
       "      <td>0.642940</td>\n",
       "      <td>0.521112</td>\n",
       "      <td>0.592903</td>\n",
       "      <td>0.216556</td>\n",
       "      <td>0.203385</td>\n",
       "      <td>0.618827</td>\n",
       "      <td>0.191058</td>\n",
       "      <td>0.853803</td>\n",
       "      <td>...</td>\n",
       "      <td>0.229260</td>\n",
       "      <td>0.459856</td>\n",
       "      <td>0.601687</td>\n",
       "      <td>0.851845</td>\n",
       "      <td>0.740290</td>\n",
       "      <td>0.732748</td>\n",
       "      <td>0.416686</td>\n",
       "      <td>0.585025</td>\n",
       "      <td>0.785590</td>\n",
       "      <td>0.161383</td>\n",
       "    </tr>\n",
       "    <tr>\n",
       "      <th>99999</th>\n",
       "      <td>0.717863</td>\n",
       "      <td>0.281573</td>\n",
       "      <td>0.188958</td>\n",
       "      <td>0.903531</td>\n",
       "      <td>0.730933</td>\n",
       "      <td>0.826813</td>\n",
       "      <td>0.491981</td>\n",
       "      <td>0.364553</td>\n",
       "      <td>0.069016</td>\n",
       "      <td>0.354719</td>\n",
       "      <td>...</td>\n",
       "      <td>0.443628</td>\n",
       "      <td>0.101887</td>\n",
       "      <td>0.265541</td>\n",
       "      <td>0.134110</td>\n",
       "      <td>0.664314</td>\n",
       "      <td>0.536308</td>\n",
       "      <td>0.656200</td>\n",
       "      <td>0.041181</td>\n",
       "      <td>0.339916</td>\n",
       "      <td>0.646908</td>\n",
       "    </tr>\n",
       "  </tbody>\n",
       "</table>\n",
       "<p>100000 rows × 100 columns</p>\n",
       "</div>"
      ],
      "text/plain": [
       "             0         1         2         3         4         5         6   \\\n",
       "0      0.926538  0.382461  0.871469  0.761471  0.328826  0.988821  0.120738   \n",
       "1      0.715167  0.490948  0.904532  0.319521  0.582585  0.980330  0.019068   \n",
       "2      0.975796  0.049902  0.092684  0.158453  0.858309  0.652550  0.681106   \n",
       "3      0.369458  0.911366  0.892686  0.763454  0.581681  0.207756  0.024249   \n",
       "4      0.794953  0.714644  0.652743  0.639999  0.801813  0.223324  0.468607   \n",
       "...         ...       ...       ...       ...       ...       ...       ...   \n",
       "99995  0.973490  0.631437  0.720622  0.141930  0.355449  0.638325  0.599268   \n",
       "99996  0.704523  0.936341  0.711619  0.495312  0.029808  0.207772  0.673689   \n",
       "99997  0.649755  0.352855  0.114277  0.826643  0.763885  0.168768  0.404275   \n",
       "99998  0.975367  0.295327  0.642940  0.521112  0.592903  0.216556  0.203385   \n",
       "99999  0.717863  0.281573  0.188958  0.903531  0.730933  0.826813  0.491981   \n",
       "\n",
       "             7         8         9   ...        90        91        92  \\\n",
       "0      0.358905  0.954462  0.004711  ...  0.310465  0.816988  0.930747   \n",
       "1      0.089363  0.281105  0.143648  ...  0.433028  0.132540  0.263659   \n",
       "2      0.360168  0.843117  0.619341  ...  0.156821  0.772316  0.412088   \n",
       "3      0.925860  0.191849  0.047043  ...  0.313598  0.566552  0.844425   \n",
       "4      0.409739  0.846211  0.488558  ...  0.349061  0.986111  0.389271   \n",
       "...         ...       ...       ...  ...       ...       ...       ...   \n",
       "99995  0.267570  0.715158  0.909540  ...  0.720632  0.069631  0.567910   \n",
       "99996  0.776497  0.871136  0.088103  ...  0.636035  0.532702  0.744088   \n",
       "99997  0.079896  0.169630  0.953930  ...  0.352673  0.635799  0.674737   \n",
       "99998  0.618827  0.191058  0.853803  ...  0.229260  0.459856  0.601687   \n",
       "99999  0.364553  0.069016  0.354719  ...  0.443628  0.101887  0.265541   \n",
       "\n",
       "             93        94        95        96        97        98        99  \n",
       "0      0.111477  0.772517  0.801181  0.466825  0.005912  0.705110  0.487674  \n",
       "1      0.339079  0.234842  0.507921  0.544545  0.197424  0.432392  0.218104  \n",
       "2      0.796167  0.548580  0.722526  0.141587  0.459266  0.128221  0.661666  \n",
       "3      0.079068  0.338430  0.921877  0.856621  0.285027  0.505441  0.571166  \n",
       "4      0.428010  0.645183  0.998789  0.805533  0.310009  0.876316  0.946936  \n",
       "...         ...       ...       ...       ...       ...       ...       ...  \n",
       "99995  0.373837  0.513205  0.318192  0.354705  0.785753  0.625627  0.893857  \n",
       "99996  0.741955  0.967174  0.998244  0.632177  0.080062  0.289840  0.382859  \n",
       "99997  0.290065  0.463327  0.358685  0.952076  0.979473  0.186088  0.000481  \n",
       "99998  0.851845  0.740290  0.732748  0.416686  0.585025  0.785590  0.161383  \n",
       "99999  0.134110  0.664314  0.536308  0.656200  0.041181  0.339916  0.646908  \n",
       "\n",
       "[100000 rows x 100 columns]"
      ]
     },
     "execution_count": 4,
     "metadata": {},
     "output_type": "execute_result"
    }
   ],
   "source": [
    "df2"
   ]
  },
  {
   "cell_type": "code",
   "execution_count": 9,
   "id": "0d1d0d46",
   "metadata": {},
   "outputs": [
    {
     "name": "stdout",
     "output_type": "stream",
     "text": [
      "78.8 ms ± 6.8 ms per loop (mean ± std. dev. of 7 runs, 10 loops each)\n"
     ]
    }
   ],
   "source": [
    "%timeit df1+df2+df3+df4"
   ]
  },
  {
   "cell_type": "code",
   "execution_count": 10,
   "id": "e7d389be",
   "metadata": {},
   "outputs": [
    {
     "name": "stdout",
     "output_type": "stream",
     "text": [
      "35.2 ms ± 906 µs per loop (mean ± std. dev. of 7 runs, 10 loops each)\n"
     ]
    }
   ],
   "source": [
    "%timeit pd.eval('df1+df2+df3+df4')"
   ]
  },
  {
   "cell_type": "markdown",
   "id": "b0d742a8",
   "metadata": {},
   "source": [
    "### As we can see the execution time has clearly reduced "
   ]
  },
  {
   "cell_type": "code",
   "execution_count": 7,
   "id": "c1abb4e0",
   "metadata": {},
   "outputs": [
    {
     "data": {
      "text/plain": [
       "True"
      ]
     },
     "execution_count": 7,
     "metadata": {},
     "output_type": "execute_result"
    }
   ],
   "source": [
    "np.allclose((df1+df2+df3+df4),pd.eval('df1+df2+df3+df4'))"
   ]
  },
  {
   "cell_type": "markdown",
   "id": "3037d5ad",
   "metadata": {},
   "source": [
    " it returns true if the result of both of them are true else false"
   ]
  },
  {
   "cell_type": "markdown",
   "id": "dc0196c4",
   "metadata": {},
   "source": [
    "### arithmetic operations"
   ]
  },
  {
   "cell_type": "code",
   "execution_count": 42,
   "id": "fa304856",
   "metadata": {},
   "outputs": [],
   "source": [
    "df1,df2,df3,df4,df5 = (pd.DataFrame(rng.randint(0,1000,(100,3)))\n",
    "                  for i in range(5))"
   ]
  },
  {
   "cell_type": "markdown",
   "id": "105bea50",
   "metadata": {},
   "source": [
    " it populates 5 dataframes with values starting from 0 to 1000            \n",
    "it has a size of 100 rows and 3 columns              \n",
    "rng is defined earlier with RandomState(42) so that the random values generated does not change with execution"
   ]
  },
  {
   "cell_type": "code",
   "execution_count": 43,
   "id": "abd68bb3",
   "metadata": {},
   "outputs": [
    {
     "data": {
      "text/html": [
       "<div>\n",
       "<style scoped>\n",
       "    .dataframe tbody tr th:only-of-type {\n",
       "        vertical-align: middle;\n",
       "    }\n",
       "\n",
       "    .dataframe tbody tr th {\n",
       "        vertical-align: top;\n",
       "    }\n",
       "\n",
       "    .dataframe thead th {\n",
       "        text-align: right;\n",
       "    }\n",
       "</style>\n",
       "<table border=\"1\" class=\"dataframe\">\n",
       "  <thead>\n",
       "    <tr style=\"text-align: right;\">\n",
       "      <th></th>\n",
       "      <th>0</th>\n",
       "      <th>1</th>\n",
       "      <th>2</th>\n",
       "    </tr>\n",
       "  </thead>\n",
       "  <tbody>\n",
       "    <tr>\n",
       "      <th>0</th>\n",
       "      <td>710</td>\n",
       "      <td>676</td>\n",
       "      <td>749</td>\n",
       "    </tr>\n",
       "    <tr>\n",
       "      <th>1</th>\n",
       "      <td>813</td>\n",
       "      <td>241</td>\n",
       "      <td>915</td>\n",
       "    </tr>\n",
       "    <tr>\n",
       "      <th>2</th>\n",
       "      <td>421</td>\n",
       "      <td>476</td>\n",
       "      <td>480</td>\n",
       "    </tr>\n",
       "    <tr>\n",
       "      <th>3</th>\n",
       "      <td>850</td>\n",
       "      <td>463</td>\n",
       "      <td>934</td>\n",
       "    </tr>\n",
       "    <tr>\n",
       "      <th>4</th>\n",
       "      <td>347</td>\n",
       "      <td>522</td>\n",
       "      <td>819</td>\n",
       "    </tr>\n",
       "    <tr>\n",
       "      <th>...</th>\n",
       "      <td>...</td>\n",
       "      <td>...</td>\n",
       "      <td>...</td>\n",
       "    </tr>\n",
       "    <tr>\n",
       "      <th>95</th>\n",
       "      <td>617</td>\n",
       "      <td>472</td>\n",
       "      <td>720</td>\n",
       "    </tr>\n",
       "    <tr>\n",
       "      <th>96</th>\n",
       "      <td>506</td>\n",
       "      <td>204</td>\n",
       "      <td>167</td>\n",
       "    </tr>\n",
       "    <tr>\n",
       "      <th>97</th>\n",
       "      <td>378</td>\n",
       "      <td>603</td>\n",
       "      <td>630</td>\n",
       "    </tr>\n",
       "    <tr>\n",
       "      <th>98</th>\n",
       "      <td>714</td>\n",
       "      <td>893</td>\n",
       "      <td>806</td>\n",
       "    </tr>\n",
       "    <tr>\n",
       "      <th>99</th>\n",
       "      <td>974</td>\n",
       "      <td>209</td>\n",
       "      <td>810</td>\n",
       "    </tr>\n",
       "  </tbody>\n",
       "</table>\n",
       "<p>100 rows × 3 columns</p>\n",
       "</div>"
      ],
      "text/plain": [
       "      0    1    2\n",
       "0   710  676  749\n",
       "1   813  241  915\n",
       "2   421  476  480\n",
       "3   850  463  934\n",
       "4   347  522  819\n",
       "..  ...  ...  ...\n",
       "95  617  472  720\n",
       "96  506  204  167\n",
       "97  378  603  630\n",
       "98  714  893  806\n",
       "99  974  209  810\n",
       "\n",
       "[100 rows x 3 columns]"
      ]
     },
     "execution_count": 43,
     "metadata": {},
     "output_type": "execute_result"
    }
   ],
   "source": [
    "df1"
   ]
  },
  {
   "cell_type": "code",
   "execution_count": 44,
   "id": "15a15caa",
   "metadata": {},
   "outputs": [
    {
     "data": {
      "text/plain": [
       "True"
      ]
     },
     "execution_count": 44,
     "metadata": {},
     "output_type": "execute_result"
    }
   ],
   "source": [
    "result1 = -df1 * df2 / (df3 + df4) - df5\n",
    "result2 = pd.eval('-df1 * df2 / (df3 + df4) - df5')\n",
    "np.allclose(result1,result2)"
   ]
  },
  {
   "cell_type": "code",
   "execution_count": 45,
   "id": "918e4caf",
   "metadata": {},
   "outputs": [
    {
     "name": "stdout",
     "output_type": "stream",
     "text": [
      "59.2 ns ± 0.913 ns per loop (mean ± std. dev. of 7 runs, 10,000,000 loops each)\n"
     ]
    }
   ],
   "source": [
    "%timeit result1"
   ]
  },
  {
   "cell_type": "code",
   "execution_count": 46,
   "id": "346ec178",
   "metadata": {},
   "outputs": [
    {
     "name": "stdout",
     "output_type": "stream",
     "text": [
      "47.5 ns ± 2.84 ns per loop (mean ± std. dev. of 7 runs, 10,000,000 loops each)\n"
     ]
    }
   ],
   "source": [
    "%timeit result2"
   ]
  },
  {
   "cell_type": "markdown",
   "id": "7374de8c",
   "metadata": {},
   "source": [
    "### note that eval only takes string as input so only use '  ' "
   ]
  },
  {
   "cell_type": "code",
   "execution_count": 47,
   "id": "506187ea",
   "metadata": {},
   "outputs": [
    {
     "ename": "TypeError",
     "evalue": "'module' object is not callable",
     "output_type": "error",
     "traceback": [
      "\u001b[1;31m---------------------------------------------------------------------------\u001b[0m",
      "\u001b[1;31mTypeError\u001b[0m                                 Traceback (most recent call last)",
      "Cell \u001b[1;32mIn[47], line 1\u001b[0m\n\u001b[1;32m----> 1\u001b[0m \u001b[43mnp\u001b[49m\u001b[38;5;241;43m.\u001b[39;49m\u001b[43mversion\u001b[49m\u001b[43m(\u001b[49m\u001b[43m)\u001b[49m\n",
      "\u001b[1;31mTypeError\u001b[0m: 'module' object is not callable"
     ]
    }
   ],
   "source": [
    "np.version()"
   ]
  },
  {
   "cell_type": "code",
   "execution_count": 53,
   "id": "e4840dfa",
   "metadata": {},
   "outputs": [
    {
     "data": {
      "text/plain": [
       "'1.23.5'"
      ]
     },
     "execution_count": 53,
     "metadata": {},
     "output_type": "execute_result"
    }
   ],
   "source": [
    "np.__version__"
   ]
  },
  {
   "cell_type": "markdown",
   "id": "a27b36f7",
   "metadata": {},
   "source": [
    "### comparison operator"
   ]
  },
  {
   "cell_type": "code",
   "execution_count": 52,
   "id": "c2426080",
   "metadata": {},
   "outputs": [
    {
     "data": {
      "text/plain": [
       "True"
      ]
     },
     "execution_count": 52,
     "metadata": {},
     "output_type": "execute_result"
    }
   ],
   "source": [
    "result1 =(df1 < df2) & (df2 <= df3) & (df3 != df4)\n",
    "result2 = pd.eval('(df1 < df2) & (df2 <= df3) & (df3 != df4)')\n",
    "np.allclose(result1,result2)"
   ]
  },
  {
   "cell_type": "markdown",
   "id": "c207dcf3",
   "metadata": {},
   "source": [
    "### bitwise operator"
   ]
  },
  {
   "cell_type": "code",
   "execution_count": 55,
   "id": "54e8a493",
   "metadata": {},
   "outputs": [
    {
     "data": {
      "text/plain": [
       "True"
      ]
     },
     "execution_count": 55,
     "metadata": {},
     "output_type": "execute_result"
    }
   ],
   "source": [
    "result1 = (df1 < 0.5) & (df2 < 0.5) | (df3 < df4)\n",
    "result2 = pd.eval('(df1 < 0.5) & (df2 < 0.5) | (df3 < df4)')\n",
    "np.allclose(result1,result2)"
   ]
  },
  {
   "cell_type": "code",
   "execution_count": 56,
   "id": "25ede631",
   "metadata": {},
   "outputs": [
    {
     "name": "stdout",
     "output_type": "stream",
     "text": [
      "60.2 ns ± 0.294 ns per loop (mean ± std. dev. of 7 runs, 10,000,000 loops each)\n"
     ]
    }
   ],
   "source": [
    "%timeit result1"
   ]
  },
  {
   "cell_type": "code",
   "execution_count": 57,
   "id": "701f05f4",
   "metadata": {},
   "outputs": [
    {
     "name": "stdout",
     "output_type": "stream",
     "text": [
      "60.4 ns ± 0.286 ns per loop (mean ± std. dev. of 7 runs, 10,000,000 loops each)\n"
     ]
    }
   ],
   "source": [
    "%timeit result2"
   ]
  },
  {
   "cell_type": "code",
   "execution_count": 58,
   "id": "1c900330",
   "metadata": {},
   "outputs": [
    {
     "data": {
      "text/plain": [
       "True"
      ]
     },
     "execution_count": 58,
     "metadata": {},
     "output_type": "execute_result"
    }
   ],
   "source": [
    "result3 = pd.eval('(df1 < 0.5) and (df2 < 0.5) or (df3 < df4)')\n",
    "np.allclose(result2,result3)"
   ]
  },
  {
   "cell_type": "code",
   "execution_count": 59,
   "id": "66c348d7",
   "metadata": {},
   "outputs": [
    {
     "name": "stdout",
     "output_type": "stream",
     "text": [
      "53.2 ns ± 4.61 ns per loop (mean ± std. dev. of 7 runs, 10,000,000 loops each)\n"
     ]
    }
   ],
   "source": [
    "%timeit result3"
   ]
  },
  {
   "cell_type": "markdown",
   "id": "5fb5115c",
   "metadata": {},
   "source": [
    " we can also used keywords such as and and or instead of & and |"
   ]
  },
  {
   "cell_type": "markdown",
   "id": "55cd29c9",
   "metadata": {},
   "source": [
    "### column-wise operation"
   ]
  },
  {
   "cell_type": "code",
   "execution_count": 74,
   "id": "19537b2f",
   "metadata": {},
   "outputs": [
    {
     "data": {
      "text/html": [
       "<div>\n",
       "<style scoped>\n",
       "    .dataframe tbody tr th:only-of-type {\n",
       "        vertical-align: middle;\n",
       "    }\n",
       "\n",
       "    .dataframe tbody tr th {\n",
       "        vertical-align: top;\n",
       "    }\n",
       "\n",
       "    .dataframe thead th {\n",
       "        text-align: right;\n",
       "    }\n",
       "</style>\n",
       "<table border=\"1\" class=\"dataframe\">\n",
       "  <thead>\n",
       "    <tr style=\"text-align: right;\">\n",
       "      <th></th>\n",
       "      <th>A</th>\n",
       "      <th>B</th>\n",
       "      <th>C</th>\n",
       "    </tr>\n",
       "  </thead>\n",
       "  <tbody>\n",
       "    <tr>\n",
       "      <th>0</th>\n",
       "      <td>0.148013</td>\n",
       "      <td>0.810178</td>\n",
       "      <td>0.468311</td>\n",
       "    </tr>\n",
       "    <tr>\n",
       "      <th>1</th>\n",
       "      <td>0.425177</td>\n",
       "      <td>0.503878</td>\n",
       "      <td>0.634451</td>\n",
       "    </tr>\n",
       "    <tr>\n",
       "      <th>2</th>\n",
       "      <td>0.143661</td>\n",
       "      <td>0.544381</td>\n",
       "      <td>0.184145</td>\n",
       "    </tr>\n",
       "    <tr>\n",
       "      <th>3</th>\n",
       "      <td>0.727018</td>\n",
       "      <td>0.398071</td>\n",
       "      <td>0.798826</td>\n",
       "    </tr>\n",
       "    <tr>\n",
       "      <th>4</th>\n",
       "      <td>0.745364</td>\n",
       "      <td>0.595063</td>\n",
       "      <td>0.835064</td>\n",
       "    </tr>\n",
       "  </tbody>\n",
       "</table>\n",
       "</div>"
      ],
      "text/plain": [
       "          A         B         C\n",
       "0  0.148013  0.810178  0.468311\n",
       "1  0.425177  0.503878  0.634451\n",
       "2  0.143661  0.544381  0.184145\n",
       "3  0.727018  0.398071  0.798826\n",
       "4  0.745364  0.595063  0.835064"
      ]
     },
     "execution_count": 74,
     "metadata": {},
     "output_type": "execute_result"
    }
   ],
   "source": [
    "df = pd.DataFrame(rng.rand(1000,3),columns = ['A','B','C'])\n",
    "df.head()"
   ]
  },
  {
   "cell_type": "code",
   "execution_count": null,
   "id": "0584de2d",
   "metadata": {},
   "outputs": [],
   "source": []
  },
  {
   "cell_type": "code",
   "execution_count": 75,
   "id": "dad890a9",
   "metadata": {},
   "outputs": [
    {
     "ename": "ValueError",
     "evalue": "data type must provide an itemsize",
     "output_type": "error",
     "traceback": [
      "\u001b[1;31m---------------------------------------------------------------------------\u001b[0m",
      "\u001b[1;31mValueError\u001b[0m                                Traceback (most recent call last)",
      "Cell \u001b[1;32mIn[75], line 2\u001b[0m\n\u001b[0;32m      1\u001b[0m result1 \u001b[38;5;241m=\u001b[39m (df[\u001b[38;5;124m'\u001b[39m\u001b[38;5;124mA\u001b[39m\u001b[38;5;124m'\u001b[39m]\u001b[38;5;241m+\u001b[39mdf[\u001b[38;5;124m'\u001b[39m\u001b[38;5;124mB\u001b[39m\u001b[38;5;124m'\u001b[39m]) \u001b[38;5;241m/\u001b[39m (df[\u001b[38;5;124m'\u001b[39m\u001b[38;5;124mC\u001b[39m\u001b[38;5;124m'\u001b[39m]\u001b[38;5;241m-\u001b[39m\u001b[38;5;241m1\u001b[39m)\n\u001b[1;32m----> 2\u001b[0m result2 \u001b[38;5;241m=\u001b[39m \u001b[43mpd\u001b[49m\u001b[38;5;241;43m.\u001b[39;49m\u001b[43meval\u001b[49m\u001b[43m(\u001b[49m\u001b[38;5;124;43m\"\u001b[39;49m\u001b[38;5;124;43m(df[\u001b[39;49m\u001b[38;5;124;43m'\u001b[39;49m\u001b[38;5;124;43mA\u001b[39;49m\u001b[38;5;124;43m'\u001b[39;49m\u001b[38;5;124;43m]+df[\u001b[39;49m\u001b[38;5;124;43m'\u001b[39;49m\u001b[38;5;124;43mB\u001b[39;49m\u001b[38;5;124;43m'\u001b[39;49m\u001b[38;5;124;43m]) / (df[\u001b[39;49m\u001b[38;5;124;43m'\u001b[39;49m\u001b[38;5;124;43mC\u001b[39;49m\u001b[38;5;124;43m'\u001b[39;49m\u001b[38;5;124;43m]-1)\u001b[39;49m\u001b[38;5;124;43m\"\u001b[39;49m\u001b[43m)\u001b[49m\n\u001b[0;32m      3\u001b[0m np\u001b[38;5;241m.\u001b[39mallclose(result1,result2)\n",
      "File \u001b[1;32m~\\anaconda3\\lib\\site-packages\\pandas\\core\\computation\\eval.py:353\u001b[0m, in \u001b[0;36meval\u001b[1;34m(expr, parser, engine, truediv, local_dict, global_dict, resolvers, level, target, inplace)\u001b[0m\n\u001b[0;32m    344\u001b[0m \u001b[38;5;66;03m# get our (possibly passed-in) scope\u001b[39;00m\n\u001b[0;32m    345\u001b[0m env \u001b[38;5;241m=\u001b[39m ensure_scope(\n\u001b[0;32m    346\u001b[0m     level \u001b[38;5;241m+\u001b[39m \u001b[38;5;241m1\u001b[39m,\n\u001b[0;32m    347\u001b[0m     global_dict\u001b[38;5;241m=\u001b[39mglobal_dict,\n\u001b[1;32m   (...)\u001b[0m\n\u001b[0;32m    350\u001b[0m     target\u001b[38;5;241m=\u001b[39mtarget,\n\u001b[0;32m    351\u001b[0m )\n\u001b[1;32m--> 353\u001b[0m parsed_expr \u001b[38;5;241m=\u001b[39m \u001b[43mExpr\u001b[49m\u001b[43m(\u001b[49m\u001b[43mexpr\u001b[49m\u001b[43m,\u001b[49m\u001b[43m \u001b[49m\u001b[43mengine\u001b[49m\u001b[38;5;241;43m=\u001b[39;49m\u001b[43mengine\u001b[49m\u001b[43m,\u001b[49m\u001b[43m \u001b[49m\u001b[43mparser\u001b[49m\u001b[38;5;241;43m=\u001b[39;49m\u001b[43mparser\u001b[49m\u001b[43m,\u001b[49m\u001b[43m \u001b[49m\u001b[43menv\u001b[49m\u001b[38;5;241;43m=\u001b[39;49m\u001b[43menv\u001b[49m\u001b[43m)\u001b[49m\n\u001b[0;32m    355\u001b[0m \u001b[38;5;66;03m# construct the engine and evaluate the parsed expression\u001b[39;00m\n\u001b[0;32m    356\u001b[0m eng \u001b[38;5;241m=\u001b[39m ENGINES[engine]\n",
      "File \u001b[1;32m~\\anaconda3\\lib\\site-packages\\pandas\\core\\computation\\expr.py:813\u001b[0m, in \u001b[0;36mExpr.__init__\u001b[1;34m(self, expr, engine, parser, env, level)\u001b[0m\n\u001b[0;32m    811\u001b[0m \u001b[38;5;28mself\u001b[39m\u001b[38;5;241m.\u001b[39mparser \u001b[38;5;241m=\u001b[39m parser\n\u001b[0;32m    812\u001b[0m \u001b[38;5;28mself\u001b[39m\u001b[38;5;241m.\u001b[39m_visitor \u001b[38;5;241m=\u001b[39m PARSERS[parser](\u001b[38;5;28mself\u001b[39m\u001b[38;5;241m.\u001b[39menv, \u001b[38;5;28mself\u001b[39m\u001b[38;5;241m.\u001b[39mengine, \u001b[38;5;28mself\u001b[39m\u001b[38;5;241m.\u001b[39mparser)\n\u001b[1;32m--> 813\u001b[0m \u001b[38;5;28mself\u001b[39m\u001b[38;5;241m.\u001b[39mterms \u001b[38;5;241m=\u001b[39m \u001b[38;5;28;43mself\u001b[39;49m\u001b[38;5;241;43m.\u001b[39;49m\u001b[43mparse\u001b[49m\u001b[43m(\u001b[49m\u001b[43m)\u001b[49m\n",
      "File \u001b[1;32m~\\anaconda3\\lib\\site-packages\\pandas\\core\\computation\\expr.py:832\u001b[0m, in \u001b[0;36mExpr.parse\u001b[1;34m(self)\u001b[0m\n\u001b[0;32m    828\u001b[0m \u001b[38;5;28;01mdef\u001b[39;00m \u001b[38;5;21mparse\u001b[39m(\u001b[38;5;28mself\u001b[39m):\n\u001b[0;32m    829\u001b[0m     \u001b[38;5;124;03m\"\"\"\u001b[39;00m\n\u001b[0;32m    830\u001b[0m \u001b[38;5;124;03m    Parse an expression.\u001b[39;00m\n\u001b[0;32m    831\u001b[0m \u001b[38;5;124;03m    \"\"\"\u001b[39;00m\n\u001b[1;32m--> 832\u001b[0m     \u001b[38;5;28;01mreturn\u001b[39;00m \u001b[38;5;28;43mself\u001b[39;49m\u001b[38;5;241;43m.\u001b[39;49m\u001b[43m_visitor\u001b[49m\u001b[38;5;241;43m.\u001b[39;49m\u001b[43mvisit\u001b[49m\u001b[43m(\u001b[49m\u001b[38;5;28;43mself\u001b[39;49m\u001b[38;5;241;43m.\u001b[39;49m\u001b[43mexpr\u001b[49m\u001b[43m)\u001b[49m\n",
      "File \u001b[1;32m~\\anaconda3\\lib\\site-packages\\pandas\\core\\computation\\expr.py:415\u001b[0m, in \u001b[0;36mBaseExprVisitor.visit\u001b[1;34m(self, node, **kwargs)\u001b[0m\n\u001b[0;32m    413\u001b[0m method \u001b[38;5;241m=\u001b[39m \u001b[38;5;124m\"\u001b[39m\u001b[38;5;124mvisit_\u001b[39m\u001b[38;5;124m\"\u001b[39m \u001b[38;5;241m+\u001b[39m \u001b[38;5;28mtype\u001b[39m(node)\u001b[38;5;241m.\u001b[39m\u001b[38;5;18m__name__\u001b[39m\n\u001b[0;32m    414\u001b[0m visitor \u001b[38;5;241m=\u001b[39m \u001b[38;5;28mgetattr\u001b[39m(\u001b[38;5;28mself\u001b[39m, method)\n\u001b[1;32m--> 415\u001b[0m \u001b[38;5;28;01mreturn\u001b[39;00m visitor(node, \u001b[38;5;241m*\u001b[39m\u001b[38;5;241m*\u001b[39mkwargs)\n",
      "File \u001b[1;32m~\\anaconda3\\lib\\site-packages\\pandas\\core\\computation\\expr.py:421\u001b[0m, in \u001b[0;36mBaseExprVisitor.visit_Module\u001b[1;34m(self, node, **kwargs)\u001b[0m\n\u001b[0;32m    419\u001b[0m     \u001b[38;5;28;01mraise\u001b[39;00m \u001b[38;5;167;01mSyntaxError\u001b[39;00m(\u001b[38;5;124m\"\u001b[39m\u001b[38;5;124monly a single expression is allowed\u001b[39m\u001b[38;5;124m\"\u001b[39m)\n\u001b[0;32m    420\u001b[0m expr \u001b[38;5;241m=\u001b[39m node\u001b[38;5;241m.\u001b[39mbody[\u001b[38;5;241m0\u001b[39m]\n\u001b[1;32m--> 421\u001b[0m \u001b[38;5;28;01mreturn\u001b[39;00m \u001b[38;5;28mself\u001b[39m\u001b[38;5;241m.\u001b[39mvisit(expr, \u001b[38;5;241m*\u001b[39m\u001b[38;5;241m*\u001b[39mkwargs)\n",
      "File \u001b[1;32m~\\anaconda3\\lib\\site-packages\\pandas\\core\\computation\\expr.py:415\u001b[0m, in \u001b[0;36mBaseExprVisitor.visit\u001b[1;34m(self, node, **kwargs)\u001b[0m\n\u001b[0;32m    413\u001b[0m method \u001b[38;5;241m=\u001b[39m \u001b[38;5;124m\"\u001b[39m\u001b[38;5;124mvisit_\u001b[39m\u001b[38;5;124m\"\u001b[39m \u001b[38;5;241m+\u001b[39m \u001b[38;5;28mtype\u001b[39m(node)\u001b[38;5;241m.\u001b[39m\u001b[38;5;18m__name__\u001b[39m\n\u001b[0;32m    414\u001b[0m visitor \u001b[38;5;241m=\u001b[39m \u001b[38;5;28mgetattr\u001b[39m(\u001b[38;5;28mself\u001b[39m, method)\n\u001b[1;32m--> 415\u001b[0m \u001b[38;5;28;01mreturn\u001b[39;00m visitor(node, \u001b[38;5;241m*\u001b[39m\u001b[38;5;241m*\u001b[39mkwargs)\n",
      "File \u001b[1;32m~\\anaconda3\\lib\\site-packages\\pandas\\core\\computation\\expr.py:424\u001b[0m, in \u001b[0;36mBaseExprVisitor.visit_Expr\u001b[1;34m(self, node, **kwargs)\u001b[0m\n\u001b[0;32m    423\u001b[0m \u001b[38;5;28;01mdef\u001b[39;00m \u001b[38;5;21mvisit_Expr\u001b[39m(\u001b[38;5;28mself\u001b[39m, node, \u001b[38;5;241m*\u001b[39m\u001b[38;5;241m*\u001b[39mkwargs):\n\u001b[1;32m--> 424\u001b[0m     \u001b[38;5;28;01mreturn\u001b[39;00m \u001b[38;5;28mself\u001b[39m\u001b[38;5;241m.\u001b[39mvisit(node\u001b[38;5;241m.\u001b[39mvalue, \u001b[38;5;241m*\u001b[39m\u001b[38;5;241m*\u001b[39mkwargs)\n",
      "File \u001b[1;32m~\\anaconda3\\lib\\site-packages\\pandas\\core\\computation\\expr.py:415\u001b[0m, in \u001b[0;36mBaseExprVisitor.visit\u001b[1;34m(self, node, **kwargs)\u001b[0m\n\u001b[0;32m    413\u001b[0m method \u001b[38;5;241m=\u001b[39m \u001b[38;5;124m\"\u001b[39m\u001b[38;5;124mvisit_\u001b[39m\u001b[38;5;124m\"\u001b[39m \u001b[38;5;241m+\u001b[39m \u001b[38;5;28mtype\u001b[39m(node)\u001b[38;5;241m.\u001b[39m\u001b[38;5;18m__name__\u001b[39m\n\u001b[0;32m    414\u001b[0m visitor \u001b[38;5;241m=\u001b[39m \u001b[38;5;28mgetattr\u001b[39m(\u001b[38;5;28mself\u001b[39m, method)\n\u001b[1;32m--> 415\u001b[0m \u001b[38;5;28;01mreturn\u001b[39;00m visitor(node, \u001b[38;5;241m*\u001b[39m\u001b[38;5;241m*\u001b[39mkwargs)\n",
      "File \u001b[1;32m~\\anaconda3\\lib\\site-packages\\pandas\\core\\computation\\expr.py:536\u001b[0m, in \u001b[0;36mBaseExprVisitor.visit_BinOp\u001b[1;34m(self, node, **kwargs)\u001b[0m\n\u001b[0;32m    535\u001b[0m \u001b[38;5;28;01mdef\u001b[39;00m \u001b[38;5;21mvisit_BinOp\u001b[39m(\u001b[38;5;28mself\u001b[39m, node, \u001b[38;5;241m*\u001b[39m\u001b[38;5;241m*\u001b[39mkwargs):\n\u001b[1;32m--> 536\u001b[0m     op, op_class, left, right \u001b[38;5;241m=\u001b[39m \u001b[38;5;28;43mself\u001b[39;49m\u001b[38;5;241;43m.\u001b[39;49m\u001b[43m_maybe_transform_eq_ne\u001b[49m\u001b[43m(\u001b[49m\u001b[43mnode\u001b[49m\u001b[43m)\u001b[49m\n\u001b[0;32m    537\u001b[0m     left, right \u001b[38;5;241m=\u001b[39m \u001b[38;5;28mself\u001b[39m\u001b[38;5;241m.\u001b[39m_maybe_downcast_constants(left, right)\n\u001b[0;32m    538\u001b[0m     \u001b[38;5;28;01mreturn\u001b[39;00m \u001b[38;5;28mself\u001b[39m\u001b[38;5;241m.\u001b[39m_maybe_evaluate_binop(op, op_class, left, right)\n",
      "File \u001b[1;32m~\\anaconda3\\lib\\site-packages\\pandas\\core\\computation\\expr.py:456\u001b[0m, in \u001b[0;36mBaseExprVisitor._maybe_transform_eq_ne\u001b[1;34m(self, node, left, right)\u001b[0m\n\u001b[0;32m    454\u001b[0m \u001b[38;5;28;01mdef\u001b[39;00m \u001b[38;5;21m_maybe_transform_eq_ne\u001b[39m(\u001b[38;5;28mself\u001b[39m, node, left\u001b[38;5;241m=\u001b[39m\u001b[38;5;28;01mNone\u001b[39;00m, right\u001b[38;5;241m=\u001b[39m\u001b[38;5;28;01mNone\u001b[39;00m):\n\u001b[0;32m    455\u001b[0m     \u001b[38;5;28;01mif\u001b[39;00m left \u001b[38;5;129;01mis\u001b[39;00m \u001b[38;5;28;01mNone\u001b[39;00m:\n\u001b[1;32m--> 456\u001b[0m         left \u001b[38;5;241m=\u001b[39m \u001b[38;5;28;43mself\u001b[39;49m\u001b[38;5;241;43m.\u001b[39;49m\u001b[43mvisit\u001b[49m\u001b[43m(\u001b[49m\u001b[43mnode\u001b[49m\u001b[38;5;241;43m.\u001b[39;49m\u001b[43mleft\u001b[49m\u001b[43m,\u001b[49m\u001b[43m \u001b[49m\u001b[43mside\u001b[49m\u001b[38;5;241;43m=\u001b[39;49m\u001b[38;5;124;43m\"\u001b[39;49m\u001b[38;5;124;43mleft\u001b[39;49m\u001b[38;5;124;43m\"\u001b[39;49m\u001b[43m)\u001b[49m\n\u001b[0;32m    457\u001b[0m     \u001b[38;5;28;01mif\u001b[39;00m right \u001b[38;5;129;01mis\u001b[39;00m \u001b[38;5;28;01mNone\u001b[39;00m:\n\u001b[0;32m    458\u001b[0m         right \u001b[38;5;241m=\u001b[39m \u001b[38;5;28mself\u001b[39m\u001b[38;5;241m.\u001b[39mvisit(node\u001b[38;5;241m.\u001b[39mright, side\u001b[38;5;241m=\u001b[39m\u001b[38;5;124m\"\u001b[39m\u001b[38;5;124mright\u001b[39m\u001b[38;5;124m\"\u001b[39m)\n",
      "File \u001b[1;32m~\\anaconda3\\lib\\site-packages\\pandas\\core\\computation\\expr.py:415\u001b[0m, in \u001b[0;36mBaseExprVisitor.visit\u001b[1;34m(self, node, **kwargs)\u001b[0m\n\u001b[0;32m    413\u001b[0m method \u001b[38;5;241m=\u001b[39m \u001b[38;5;124m\"\u001b[39m\u001b[38;5;124mvisit_\u001b[39m\u001b[38;5;124m\"\u001b[39m \u001b[38;5;241m+\u001b[39m \u001b[38;5;28mtype\u001b[39m(node)\u001b[38;5;241m.\u001b[39m\u001b[38;5;18m__name__\u001b[39m\n\u001b[0;32m    414\u001b[0m visitor \u001b[38;5;241m=\u001b[39m \u001b[38;5;28mgetattr\u001b[39m(\u001b[38;5;28mself\u001b[39m, method)\n\u001b[1;32m--> 415\u001b[0m \u001b[38;5;28;01mreturn\u001b[39;00m visitor(node, \u001b[38;5;241m*\u001b[39m\u001b[38;5;241m*\u001b[39mkwargs)\n",
      "File \u001b[1;32m~\\anaconda3\\lib\\site-packages\\pandas\\core\\computation\\expr.py:536\u001b[0m, in \u001b[0;36mBaseExprVisitor.visit_BinOp\u001b[1;34m(self, node, **kwargs)\u001b[0m\n\u001b[0;32m    535\u001b[0m \u001b[38;5;28;01mdef\u001b[39;00m \u001b[38;5;21mvisit_BinOp\u001b[39m(\u001b[38;5;28mself\u001b[39m, node, \u001b[38;5;241m*\u001b[39m\u001b[38;5;241m*\u001b[39mkwargs):\n\u001b[1;32m--> 536\u001b[0m     op, op_class, left, right \u001b[38;5;241m=\u001b[39m \u001b[38;5;28;43mself\u001b[39;49m\u001b[38;5;241;43m.\u001b[39;49m\u001b[43m_maybe_transform_eq_ne\u001b[49m\u001b[43m(\u001b[49m\u001b[43mnode\u001b[49m\u001b[43m)\u001b[49m\n\u001b[0;32m    537\u001b[0m     left, right \u001b[38;5;241m=\u001b[39m \u001b[38;5;28mself\u001b[39m\u001b[38;5;241m.\u001b[39m_maybe_downcast_constants(left, right)\n\u001b[0;32m    538\u001b[0m     \u001b[38;5;28;01mreturn\u001b[39;00m \u001b[38;5;28mself\u001b[39m\u001b[38;5;241m.\u001b[39m_maybe_evaluate_binop(op, op_class, left, right)\n",
      "File \u001b[1;32m~\\anaconda3\\lib\\site-packages\\pandas\\core\\computation\\expr.py:456\u001b[0m, in \u001b[0;36mBaseExprVisitor._maybe_transform_eq_ne\u001b[1;34m(self, node, left, right)\u001b[0m\n\u001b[0;32m    454\u001b[0m \u001b[38;5;28;01mdef\u001b[39;00m \u001b[38;5;21m_maybe_transform_eq_ne\u001b[39m(\u001b[38;5;28mself\u001b[39m, node, left\u001b[38;5;241m=\u001b[39m\u001b[38;5;28;01mNone\u001b[39;00m, right\u001b[38;5;241m=\u001b[39m\u001b[38;5;28;01mNone\u001b[39;00m):\n\u001b[0;32m    455\u001b[0m     \u001b[38;5;28;01mif\u001b[39;00m left \u001b[38;5;129;01mis\u001b[39;00m \u001b[38;5;28;01mNone\u001b[39;00m:\n\u001b[1;32m--> 456\u001b[0m         left \u001b[38;5;241m=\u001b[39m \u001b[38;5;28;43mself\u001b[39;49m\u001b[38;5;241;43m.\u001b[39;49m\u001b[43mvisit\u001b[49m\u001b[43m(\u001b[49m\u001b[43mnode\u001b[49m\u001b[38;5;241;43m.\u001b[39;49m\u001b[43mleft\u001b[49m\u001b[43m,\u001b[49m\u001b[43m \u001b[49m\u001b[43mside\u001b[49m\u001b[38;5;241;43m=\u001b[39;49m\u001b[38;5;124;43m\"\u001b[39;49m\u001b[38;5;124;43mleft\u001b[39;49m\u001b[38;5;124;43m\"\u001b[39;49m\u001b[43m)\u001b[49m\n\u001b[0;32m    457\u001b[0m     \u001b[38;5;28;01mif\u001b[39;00m right \u001b[38;5;129;01mis\u001b[39;00m \u001b[38;5;28;01mNone\u001b[39;00m:\n\u001b[0;32m    458\u001b[0m         right \u001b[38;5;241m=\u001b[39m \u001b[38;5;28mself\u001b[39m\u001b[38;5;241m.\u001b[39mvisit(node\u001b[38;5;241m.\u001b[39mright, side\u001b[38;5;241m=\u001b[39m\u001b[38;5;124m\"\u001b[39m\u001b[38;5;124mright\u001b[39m\u001b[38;5;124m\"\u001b[39m)\n",
      "File \u001b[1;32m~\\anaconda3\\lib\\site-packages\\pandas\\core\\computation\\expr.py:415\u001b[0m, in \u001b[0;36mBaseExprVisitor.visit\u001b[1;34m(self, node, **kwargs)\u001b[0m\n\u001b[0;32m    413\u001b[0m method \u001b[38;5;241m=\u001b[39m \u001b[38;5;124m\"\u001b[39m\u001b[38;5;124mvisit_\u001b[39m\u001b[38;5;124m\"\u001b[39m \u001b[38;5;241m+\u001b[39m \u001b[38;5;28mtype\u001b[39m(node)\u001b[38;5;241m.\u001b[39m\u001b[38;5;18m__name__\u001b[39m\n\u001b[0;32m    414\u001b[0m visitor \u001b[38;5;241m=\u001b[39m \u001b[38;5;28mgetattr\u001b[39m(\u001b[38;5;28mself\u001b[39m, method)\n\u001b[1;32m--> 415\u001b[0m \u001b[38;5;28;01mreturn\u001b[39;00m visitor(node, \u001b[38;5;241m*\u001b[39m\u001b[38;5;241m*\u001b[39mkwargs)\n",
      "File \u001b[1;32m~\\anaconda3\\lib\\site-packages\\pandas\\core\\computation\\expr.py:579\u001b[0m, in \u001b[0;36mBaseExprVisitor.visit_Subscript\u001b[1;34m(self, node, **kwargs)\u001b[0m\n\u001b[0;32m    577\u001b[0m value \u001b[38;5;241m=\u001b[39m \u001b[38;5;28mself\u001b[39m\u001b[38;5;241m.\u001b[39mvisit(node\u001b[38;5;241m.\u001b[39mvalue)\n\u001b[0;32m    578\u001b[0m slobj \u001b[38;5;241m=\u001b[39m \u001b[38;5;28mself\u001b[39m\u001b[38;5;241m.\u001b[39mvisit(node\u001b[38;5;241m.\u001b[39mslice)\n\u001b[1;32m--> 579\u001b[0m result \u001b[38;5;241m=\u001b[39m \u001b[43mpd_eval\u001b[49m\u001b[43m(\u001b[49m\n\u001b[0;32m    580\u001b[0m \u001b[43m    \u001b[49m\u001b[43mslobj\u001b[49m\u001b[43m,\u001b[49m\u001b[43m \u001b[49m\u001b[43mlocal_dict\u001b[49m\u001b[38;5;241;43m=\u001b[39;49m\u001b[38;5;28;43mself\u001b[39;49m\u001b[38;5;241;43m.\u001b[39;49m\u001b[43menv\u001b[49m\u001b[43m,\u001b[49m\u001b[43m \u001b[49m\u001b[43mengine\u001b[49m\u001b[38;5;241;43m=\u001b[39;49m\u001b[38;5;28;43mself\u001b[39;49m\u001b[38;5;241;43m.\u001b[39;49m\u001b[43mengine\u001b[49m\u001b[43m,\u001b[49m\u001b[43m \u001b[49m\u001b[43mparser\u001b[49m\u001b[38;5;241;43m=\u001b[39;49m\u001b[38;5;28;43mself\u001b[39;49m\u001b[38;5;241;43m.\u001b[39;49m\u001b[43mparser\u001b[49m\n\u001b[0;32m    581\u001b[0m \u001b[43m\u001b[49m\u001b[43m)\u001b[49m\n\u001b[0;32m    582\u001b[0m \u001b[38;5;28;01mtry\u001b[39;00m:\n\u001b[0;32m    583\u001b[0m     \u001b[38;5;66;03m# a Term instance\u001b[39;00m\n\u001b[0;32m    584\u001b[0m     v \u001b[38;5;241m=\u001b[39m value\u001b[38;5;241m.\u001b[39mvalue[result]\n",
      "File \u001b[1;32m~\\anaconda3\\lib\\site-packages\\pandas\\core\\computation\\eval.py:358\u001b[0m, in \u001b[0;36meval\u001b[1;34m(expr, parser, engine, truediv, local_dict, global_dict, resolvers, level, target, inplace)\u001b[0m\n\u001b[0;32m    356\u001b[0m eng \u001b[38;5;241m=\u001b[39m ENGINES[engine]\n\u001b[0;32m    357\u001b[0m eng_inst \u001b[38;5;241m=\u001b[39m eng(parsed_expr)\n\u001b[1;32m--> 358\u001b[0m ret \u001b[38;5;241m=\u001b[39m \u001b[43meng_inst\u001b[49m\u001b[38;5;241;43m.\u001b[39;49m\u001b[43mevaluate\u001b[49m\u001b[43m(\u001b[49m\u001b[43m)\u001b[49m\n\u001b[0;32m    360\u001b[0m \u001b[38;5;28;01mif\u001b[39;00m parsed_expr\u001b[38;5;241m.\u001b[39massigner \u001b[38;5;129;01mis\u001b[39;00m \u001b[38;5;28;01mNone\u001b[39;00m:\n\u001b[0;32m    361\u001b[0m     \u001b[38;5;28;01mif\u001b[39;00m multi_line:\n",
      "File \u001b[1;32m~\\anaconda3\\lib\\site-packages\\pandas\\core\\computation\\engines.py:81\u001b[0m, in \u001b[0;36mAbstractEngine.evaluate\u001b[1;34m(self)\u001b[0m\n\u001b[0;32m     78\u001b[0m     \u001b[38;5;28mself\u001b[39m\u001b[38;5;241m.\u001b[39mresult_type, \u001b[38;5;28mself\u001b[39m\u001b[38;5;241m.\u001b[39maligned_axes \u001b[38;5;241m=\u001b[39m align_terms(\u001b[38;5;28mself\u001b[39m\u001b[38;5;241m.\u001b[39mexpr\u001b[38;5;241m.\u001b[39mterms)\n\u001b[0;32m     80\u001b[0m \u001b[38;5;66;03m# make sure no names in resolvers and locals/globals clash\u001b[39;00m\n\u001b[1;32m---> 81\u001b[0m res \u001b[38;5;241m=\u001b[39m \u001b[38;5;28;43mself\u001b[39;49m\u001b[38;5;241;43m.\u001b[39;49m\u001b[43m_evaluate\u001b[49m\u001b[43m(\u001b[49m\u001b[43m)\u001b[49m\n\u001b[0;32m     82\u001b[0m \u001b[38;5;28;01mreturn\u001b[39;00m reconstruct_object(\n\u001b[0;32m     83\u001b[0m     \u001b[38;5;28mself\u001b[39m\u001b[38;5;241m.\u001b[39mresult_type, res, \u001b[38;5;28mself\u001b[39m\u001b[38;5;241m.\u001b[39maligned_axes, \u001b[38;5;28mself\u001b[39m\u001b[38;5;241m.\u001b[39mexpr\u001b[38;5;241m.\u001b[39mterms\u001b[38;5;241m.\u001b[39mreturn_type\n\u001b[0;32m     84\u001b[0m )\n",
      "File \u001b[1;32m~\\anaconda3\\lib\\site-packages\\pandas\\core\\computation\\engines.py:122\u001b[0m, in \u001b[0;36mNumExprEngine._evaluate\u001b[1;34m(self)\u001b[0m\n\u001b[0;32m    120\u001b[0m scope \u001b[38;5;241m=\u001b[39m env\u001b[38;5;241m.\u001b[39mfull_scope\n\u001b[0;32m    121\u001b[0m _check_ne_builtin_clash(\u001b[38;5;28mself\u001b[39m\u001b[38;5;241m.\u001b[39mexpr)\n\u001b[1;32m--> 122\u001b[0m \u001b[38;5;28;01mreturn\u001b[39;00m \u001b[43mne\u001b[49m\u001b[38;5;241;43m.\u001b[39;49m\u001b[43mevaluate\u001b[49m\u001b[43m(\u001b[49m\u001b[43ms\u001b[49m\u001b[43m,\u001b[49m\u001b[43m \u001b[49m\u001b[43mlocal_dict\u001b[49m\u001b[38;5;241;43m=\u001b[39;49m\u001b[43mscope\u001b[49m\u001b[43m)\u001b[49m\n",
      "File \u001b[1;32m~\\anaconda3\\lib\\site-packages\\numexpr\\necompiler.py:835\u001b[0m, in \u001b[0;36mevaluate\u001b[1;34m(ex, local_dict, global_dict, out, order, casting, **kwargs)\u001b[0m\n\u001b[0;32m    833\u001b[0m _numexpr_last \u001b[38;5;241m=\u001b[39m \u001b[38;5;28mdict\u001b[39m(ex\u001b[38;5;241m=\u001b[39mcompiled_ex, argnames\u001b[38;5;241m=\u001b[39mnames, kwargs\u001b[38;5;241m=\u001b[39mkwargs)\n\u001b[0;32m    834\u001b[0m \u001b[38;5;28;01mwith\u001b[39;00m evaluate_lock:\n\u001b[1;32m--> 835\u001b[0m     \u001b[38;5;28;01mreturn\u001b[39;00m compiled_ex(\u001b[38;5;241m*\u001b[39marguments, \u001b[38;5;241m*\u001b[39m\u001b[38;5;241m*\u001b[39mkwargs)\n",
      "\u001b[1;31mValueError\u001b[0m: data type must provide an itemsize"
     ]
    }
   ],
   "source": [
    "result1 = (df['A']+df['B']) / (df['C']-1)\n",
    "result2 = pd.eval(\"(df['A']+df['B']) / (df['C']-1)\")\n",
    "np.allclose(result1,result2)"
   ]
  },
  {
   "cell_type": "code",
   "execution_count": 76,
   "id": "08075a73",
   "metadata": {},
   "outputs": [
    {
     "data": {
      "text/plain": [
       "True"
      ]
     },
     "execution_count": 76,
     "metadata": {},
     "output_type": "execute_result"
    }
   ],
   "source": [
    "result1 = (df['A']+df['B']) / (df['C']-1)\n",
    "result2 = pd.eval(\"(df.A+df.B) / (df.C-1)\")\n",
    "np.allclose(result1,result2)"
   ]
  },
  {
   "cell_type": "code",
   "execution_count": 77,
   "id": "31e680dc",
   "metadata": {},
   "outputs": [
    {
     "data": {
      "text/plain": [
       "True"
      ]
     },
     "execution_count": 77,
     "metadata": {},
     "output_type": "execute_result"
    }
   ],
   "source": [
    "result3 = df.eval('(A+B)/(C-1)')\n",
    "np.allclose(result2,result3)"
   ]
  },
  {
   "cell_type": "markdown",
   "id": "6cd9c0d8",
   "metadata": {},
   "source": [
    "## adding a new column in a DataFrame"
   ]
  },
  {
   "cell_type": "code",
   "execution_count": 80,
   "id": "34e2da50",
   "metadata": {},
   "outputs": [
    {
     "data": {
      "text/html": [
       "<div>\n",
       "<style scoped>\n",
       "    .dataframe tbody tr th:only-of-type {\n",
       "        vertical-align: middle;\n",
       "    }\n",
       "\n",
       "    .dataframe tbody tr th {\n",
       "        vertical-align: top;\n",
       "    }\n",
       "\n",
       "    .dataframe thead th {\n",
       "        text-align: right;\n",
       "    }\n",
       "</style>\n",
       "<table border=\"1\" class=\"dataframe\">\n",
       "  <thead>\n",
       "    <tr style=\"text-align: right;\">\n",
       "      <th></th>\n",
       "      <th>A</th>\n",
       "      <th>B</th>\n",
       "      <th>C</th>\n",
       "      <th>D</th>\n",
       "    </tr>\n",
       "  </thead>\n",
       "  <tbody>\n",
       "    <tr>\n",
       "      <th>0</th>\n",
       "      <td>0.148013</td>\n",
       "      <td>0.810178</td>\n",
       "      <td>0.468311</td>\n",
       "      <td>0.958190</td>\n",
       "    </tr>\n",
       "    <tr>\n",
       "      <th>1</th>\n",
       "      <td>0.425177</td>\n",
       "      <td>0.503878</td>\n",
       "      <td>0.634451</td>\n",
       "      <td>0.929056</td>\n",
       "    </tr>\n",
       "    <tr>\n",
       "      <th>2</th>\n",
       "      <td>0.143661</td>\n",
       "      <td>0.544381</td>\n",
       "      <td>0.184145</td>\n",
       "      <td>0.688042</td>\n",
       "    </tr>\n",
       "    <tr>\n",
       "      <th>3</th>\n",
       "      <td>0.727018</td>\n",
       "      <td>0.398071</td>\n",
       "      <td>0.798826</td>\n",
       "      <td>1.125089</td>\n",
       "    </tr>\n",
       "    <tr>\n",
       "      <th>4</th>\n",
       "      <td>0.745364</td>\n",
       "      <td>0.595063</td>\n",
       "      <td>0.835064</td>\n",
       "      <td>1.340427</td>\n",
       "    </tr>\n",
       "    <tr>\n",
       "      <th>...</th>\n",
       "      <td>...</td>\n",
       "      <td>...</td>\n",
       "      <td>...</td>\n",
       "      <td>...</td>\n",
       "    </tr>\n",
       "    <tr>\n",
       "      <th>995</th>\n",
       "      <td>0.776994</td>\n",
       "      <td>0.535671</td>\n",
       "      <td>0.926971</td>\n",
       "      <td>1.312665</td>\n",
       "    </tr>\n",
       "    <tr>\n",
       "      <th>996</th>\n",
       "      <td>0.431220</td>\n",
       "      <td>0.565792</td>\n",
       "      <td>0.113731</td>\n",
       "      <td>0.997012</td>\n",
       "    </tr>\n",
       "    <tr>\n",
       "      <th>997</th>\n",
       "      <td>0.261324</td>\n",
       "      <td>0.301431</td>\n",
       "      <td>0.365041</td>\n",
       "      <td>0.562755</td>\n",
       "    </tr>\n",
       "    <tr>\n",
       "      <th>998</th>\n",
       "      <td>0.408466</td>\n",
       "      <td>0.427195</td>\n",
       "      <td>0.732273</td>\n",
       "      <td>0.835661</td>\n",
       "    </tr>\n",
       "    <tr>\n",
       "      <th>999</th>\n",
       "      <td>0.825433</td>\n",
       "      <td>0.618614</td>\n",
       "      <td>0.524437</td>\n",
       "      <td>1.444047</td>\n",
       "    </tr>\n",
       "  </tbody>\n",
       "</table>\n",
       "<p>1000 rows × 4 columns</p>\n",
       "</div>"
      ],
      "text/plain": [
       "            A         B         C         D\n",
       "0    0.148013  0.810178  0.468311  0.958190\n",
       "1    0.425177  0.503878  0.634451  0.929056\n",
       "2    0.143661  0.544381  0.184145  0.688042\n",
       "3    0.727018  0.398071  0.798826  1.125089\n",
       "4    0.745364  0.595063  0.835064  1.340427\n",
       "..        ...       ...       ...       ...\n",
       "995  0.776994  0.535671  0.926971  1.312665\n",
       "996  0.431220  0.565792  0.113731  0.997012\n",
       "997  0.261324  0.301431  0.365041  0.562755\n",
       "998  0.408466  0.427195  0.732273  0.835661\n",
       "999  0.825433  0.618614  0.524437  1.444047\n",
       "\n",
       "[1000 rows x 4 columns]"
      ]
     },
     "execution_count": 80,
     "metadata": {},
     "output_type": "execute_result"
    }
   ],
   "source": [
    "df.eval('D = (A+B)')\n"
   ]
  },
  {
   "cell_type": "code",
   "execution_count": 81,
   "id": "67d89997",
   "metadata": {},
   "outputs": [
    {
     "data": {
      "text/html": [
       "<div>\n",
       "<style scoped>\n",
       "    .dataframe tbody tr th:only-of-type {\n",
       "        vertical-align: middle;\n",
       "    }\n",
       "\n",
       "    .dataframe tbody tr th {\n",
       "        vertical-align: top;\n",
       "    }\n",
       "\n",
       "    .dataframe thead th {\n",
       "        text-align: right;\n",
       "    }\n",
       "</style>\n",
       "<table border=\"1\" class=\"dataframe\">\n",
       "  <thead>\n",
       "    <tr style=\"text-align: right;\">\n",
       "      <th></th>\n",
       "      <th>A</th>\n",
       "      <th>B</th>\n",
       "      <th>C</th>\n",
       "    </tr>\n",
       "  </thead>\n",
       "  <tbody>\n",
       "    <tr>\n",
       "      <th>0</th>\n",
       "      <td>0.148013</td>\n",
       "      <td>0.810178</td>\n",
       "      <td>0.468311</td>\n",
       "    </tr>\n",
       "    <tr>\n",
       "      <th>1</th>\n",
       "      <td>0.425177</td>\n",
       "      <td>0.503878</td>\n",
       "      <td>0.634451</td>\n",
       "    </tr>\n",
       "    <tr>\n",
       "      <th>2</th>\n",
       "      <td>0.143661</td>\n",
       "      <td>0.544381</td>\n",
       "      <td>0.184145</td>\n",
       "    </tr>\n",
       "    <tr>\n",
       "      <th>3</th>\n",
       "      <td>0.727018</td>\n",
       "      <td>0.398071</td>\n",
       "      <td>0.798826</td>\n",
       "    </tr>\n",
       "    <tr>\n",
       "      <th>4</th>\n",
       "      <td>0.745364</td>\n",
       "      <td>0.595063</td>\n",
       "      <td>0.835064</td>\n",
       "    </tr>\n",
       "    <tr>\n",
       "      <th>...</th>\n",
       "      <td>...</td>\n",
       "      <td>...</td>\n",
       "      <td>...</td>\n",
       "    </tr>\n",
       "    <tr>\n",
       "      <th>995</th>\n",
       "      <td>0.776994</td>\n",
       "      <td>0.535671</td>\n",
       "      <td>0.926971</td>\n",
       "    </tr>\n",
       "    <tr>\n",
       "      <th>996</th>\n",
       "      <td>0.431220</td>\n",
       "      <td>0.565792</td>\n",
       "      <td>0.113731</td>\n",
       "    </tr>\n",
       "    <tr>\n",
       "      <th>997</th>\n",
       "      <td>0.261324</td>\n",
       "      <td>0.301431</td>\n",
       "      <td>0.365041</td>\n",
       "    </tr>\n",
       "    <tr>\n",
       "      <th>998</th>\n",
       "      <td>0.408466</td>\n",
       "      <td>0.427195</td>\n",
       "      <td>0.732273</td>\n",
       "    </tr>\n",
       "    <tr>\n",
       "      <th>999</th>\n",
       "      <td>0.825433</td>\n",
       "      <td>0.618614</td>\n",
       "      <td>0.524437</td>\n",
       "    </tr>\n",
       "  </tbody>\n",
       "</table>\n",
       "<p>1000 rows × 3 columns</p>\n",
       "</div>"
      ],
      "text/plain": [
       "            A         B         C\n",
       "0    0.148013  0.810178  0.468311\n",
       "1    0.425177  0.503878  0.634451\n",
       "2    0.143661  0.544381  0.184145\n",
       "3    0.727018  0.398071  0.798826\n",
       "4    0.745364  0.595063  0.835064\n",
       "..        ...       ...       ...\n",
       "995  0.776994  0.535671  0.926971\n",
       "996  0.431220  0.565792  0.113731\n",
       "997  0.261324  0.301431  0.365041\n",
       "998  0.408466  0.427195  0.732273\n",
       "999  0.825433  0.618614  0.524437\n",
       "\n",
       "[1000 rows x 3 columns]"
      ]
     },
     "execution_count": 81,
     "metadata": {},
     "output_type": "execute_result"
    }
   ],
   "source": [
    "df"
   ]
  },
  {
   "cell_type": "markdown",
   "id": "99c06f69",
   "metadata": {},
   "source": [
    " you see eventhough you added a new column since you did not give inplace the operation did not             \n",
    "get afected in the original table"
   ]
  },
  {
   "cell_type": "code",
   "execution_count": 70,
   "id": "77cd2e6b",
   "metadata": {},
   "outputs": [
    {
     "data": {
      "text/html": [
       "<div>\n",
       "<style scoped>\n",
       "    .dataframe tbody tr th:only-of-type {\n",
       "        vertical-align: middle;\n",
       "    }\n",
       "\n",
       "    .dataframe tbody tr th {\n",
       "        vertical-align: top;\n",
       "    }\n",
       "\n",
       "    .dataframe thead th {\n",
       "        text-align: right;\n",
       "    }\n",
       "</style>\n",
       "<table border=\"1\" class=\"dataframe\">\n",
       "  <thead>\n",
       "    <tr style=\"text-align: right;\">\n",
       "      <th></th>\n",
       "      <th>A</th>\n",
       "      <th>B</th>\n",
       "      <th>C</th>\n",
       "      <th>D</th>\n",
       "    </tr>\n",
       "  </thead>\n",
       "  <tbody>\n",
       "    <tr>\n",
       "      <th>0</th>\n",
       "      <td>0.876529</td>\n",
       "      <td>0.024433</td>\n",
       "      <td>0.554679</td>\n",
       "      <td>0.900962</td>\n",
       "    </tr>\n",
       "    <tr>\n",
       "      <th>1</th>\n",
       "      <td>0.158917</td>\n",
       "      <td>0.247287</td>\n",
       "      <td>0.038619</td>\n",
       "      <td>0.406204</td>\n",
       "    </tr>\n",
       "    <tr>\n",
       "      <th>2</th>\n",
       "      <td>0.088836</td>\n",
       "      <td>0.763975</td>\n",
       "      <td>0.743225</td>\n",
       "      <td>0.852811</td>\n",
       "    </tr>\n",
       "    <tr>\n",
       "      <th>3</th>\n",
       "      <td>0.496724</td>\n",
       "      <td>0.529605</td>\n",
       "      <td>0.286836</td>\n",
       "      <td>1.026329</td>\n",
       "    </tr>\n",
       "    <tr>\n",
       "      <th>4</th>\n",
       "      <td>0.946466</td>\n",
       "      <td>0.673888</td>\n",
       "      <td>0.078722</td>\n",
       "      <td>1.620354</td>\n",
       "    </tr>\n",
       "    <tr>\n",
       "      <th>...</th>\n",
       "      <td>...</td>\n",
       "      <td>...</td>\n",
       "      <td>...</td>\n",
       "      <td>...</td>\n",
       "    </tr>\n",
       "    <tr>\n",
       "      <th>995</th>\n",
       "      <td>0.501263</td>\n",
       "      <td>0.398217</td>\n",
       "      <td>0.778836</td>\n",
       "      <td>0.899479</td>\n",
       "    </tr>\n",
       "    <tr>\n",
       "      <th>996</th>\n",
       "      <td>0.045402</td>\n",
       "      <td>0.722676</td>\n",
       "      <td>0.045683</td>\n",
       "      <td>0.768078</td>\n",
       "    </tr>\n",
       "    <tr>\n",
       "      <th>997</th>\n",
       "      <td>0.412850</td>\n",
       "      <td>0.125680</td>\n",
       "      <td>0.163177</td>\n",
       "      <td>0.538530</td>\n",
       "    </tr>\n",
       "    <tr>\n",
       "      <th>998</th>\n",
       "      <td>0.256159</td>\n",
       "      <td>0.570129</td>\n",
       "      <td>0.464632</td>\n",
       "      <td>0.826289</td>\n",
       "    </tr>\n",
       "    <tr>\n",
       "      <th>999</th>\n",
       "      <td>0.515183</td>\n",
       "      <td>0.560789</td>\n",
       "      <td>0.321999</td>\n",
       "      <td>1.075972</td>\n",
       "    </tr>\n",
       "  </tbody>\n",
       "</table>\n",
       "<p>1000 rows × 4 columns</p>\n",
       "</div>"
      ],
      "text/plain": [
       "            A         B         C         D\n",
       "0    0.876529  0.024433  0.554679  0.900962\n",
       "1    0.158917  0.247287  0.038619  0.406204\n",
       "2    0.088836  0.763975  0.743225  0.852811\n",
       "3    0.496724  0.529605  0.286836  1.026329\n",
       "4    0.946466  0.673888  0.078722  1.620354\n",
       "..        ...       ...       ...       ...\n",
       "995  0.501263  0.398217  0.778836  0.899479\n",
       "996  0.045402  0.722676  0.045683  0.768078\n",
       "997  0.412850  0.125680  0.163177  0.538530\n",
       "998  0.256159  0.570129  0.464632  0.826289\n",
       "999  0.515183  0.560789  0.321999  1.075972\n",
       "\n",
       "[1000 rows x 4 columns]"
      ]
     },
     "execution_count": 70,
     "metadata": {},
     "output_type": "execute_result"
    }
   ],
   "source": [
    "df.eval('D = (A+B)',inplace=True)\n",
    "df"
   ]
  },
  {
   "cell_type": "code",
   "execution_count": 71,
   "id": "c3b70332",
   "metadata": {},
   "outputs": [
    {
     "data": {
      "text/html": [
       "<div>\n",
       "<style scoped>\n",
       "    .dataframe tbody tr th:only-of-type {\n",
       "        vertical-align: middle;\n",
       "    }\n",
       "\n",
       "    .dataframe tbody tr th {\n",
       "        vertical-align: top;\n",
       "    }\n",
       "\n",
       "    .dataframe thead th {\n",
       "        text-align: right;\n",
       "    }\n",
       "</style>\n",
       "<table border=\"1\" class=\"dataframe\">\n",
       "  <thead>\n",
       "    <tr style=\"text-align: right;\">\n",
       "      <th></th>\n",
       "      <th>A</th>\n",
       "      <th>B</th>\n",
       "      <th>C</th>\n",
       "      <th>D</th>\n",
       "    </tr>\n",
       "  </thead>\n",
       "  <tbody>\n",
       "    <tr>\n",
       "      <th>0</th>\n",
       "      <td>0.876529</td>\n",
       "      <td>0.024433</td>\n",
       "      <td>0.554679</td>\n",
       "      <td>0.900962</td>\n",
       "    </tr>\n",
       "    <tr>\n",
       "      <th>1</th>\n",
       "      <td>0.158917</td>\n",
       "      <td>0.247287</td>\n",
       "      <td>0.038619</td>\n",
       "      <td>0.406204</td>\n",
       "    </tr>\n",
       "    <tr>\n",
       "      <th>2</th>\n",
       "      <td>0.088836</td>\n",
       "      <td>0.763975</td>\n",
       "      <td>0.743225</td>\n",
       "      <td>0.852811</td>\n",
       "    </tr>\n",
       "    <tr>\n",
       "      <th>3</th>\n",
       "      <td>0.496724</td>\n",
       "      <td>0.529605</td>\n",
       "      <td>0.286836</td>\n",
       "      <td>1.026329</td>\n",
       "    </tr>\n",
       "    <tr>\n",
       "      <th>4</th>\n",
       "      <td>0.946466</td>\n",
       "      <td>0.673888</td>\n",
       "      <td>0.078722</td>\n",
       "      <td>1.620354</td>\n",
       "    </tr>\n",
       "    <tr>\n",
       "      <th>...</th>\n",
       "      <td>...</td>\n",
       "      <td>...</td>\n",
       "      <td>...</td>\n",
       "      <td>...</td>\n",
       "    </tr>\n",
       "    <tr>\n",
       "      <th>995</th>\n",
       "      <td>0.501263</td>\n",
       "      <td>0.398217</td>\n",
       "      <td>0.778836</td>\n",
       "      <td>0.899479</td>\n",
       "    </tr>\n",
       "    <tr>\n",
       "      <th>996</th>\n",
       "      <td>0.045402</td>\n",
       "      <td>0.722676</td>\n",
       "      <td>0.045683</td>\n",
       "      <td>0.768078</td>\n",
       "    </tr>\n",
       "    <tr>\n",
       "      <th>997</th>\n",
       "      <td>0.412850</td>\n",
       "      <td>0.125680</td>\n",
       "      <td>0.163177</td>\n",
       "      <td>0.538530</td>\n",
       "    </tr>\n",
       "    <tr>\n",
       "      <th>998</th>\n",
       "      <td>0.256159</td>\n",
       "      <td>0.570129</td>\n",
       "      <td>0.464632</td>\n",
       "      <td>0.826289</td>\n",
       "    </tr>\n",
       "    <tr>\n",
       "      <th>999</th>\n",
       "      <td>0.515183</td>\n",
       "      <td>0.560789</td>\n",
       "      <td>0.321999</td>\n",
       "      <td>1.075972</td>\n",
       "    </tr>\n",
       "  </tbody>\n",
       "</table>\n",
       "<p>1000 rows × 4 columns</p>\n",
       "</div>"
      ],
      "text/plain": [
       "            A         B         C         D\n",
       "0    0.876529  0.024433  0.554679  0.900962\n",
       "1    0.158917  0.247287  0.038619  0.406204\n",
       "2    0.088836  0.763975  0.743225  0.852811\n",
       "3    0.496724  0.529605  0.286836  1.026329\n",
       "4    0.946466  0.673888  0.078722  1.620354\n",
       "..        ...       ...       ...       ...\n",
       "995  0.501263  0.398217  0.778836  0.899479\n",
       "996  0.045402  0.722676  0.045683  0.768078\n",
       "997  0.412850  0.125680  0.163177  0.538530\n",
       "998  0.256159  0.570129  0.464632  0.826289\n",
       "999  0.515183  0.560789  0.321999  1.075972\n",
       "\n",
       "[1000 rows x 4 columns]"
      ]
     },
     "execution_count": 71,
     "metadata": {},
     "output_type": "execute_result"
    }
   ],
   "source": [
    "df.eval('D = (A+B)',inplace=False)\n",
    "df"
   ]
  },
  {
   "cell_type": "code",
   "execution_count": 69,
   "id": "049dd647",
   "metadata": {},
   "outputs": [
    {
     "data": {
      "text/html": [
       "<div>\n",
       "<style scoped>\n",
       "    .dataframe tbody tr th:only-of-type {\n",
       "        vertical-align: middle;\n",
       "    }\n",
       "\n",
       "    .dataframe tbody tr th {\n",
       "        vertical-align: top;\n",
       "    }\n",
       "\n",
       "    .dataframe thead th {\n",
       "        text-align: right;\n",
       "    }\n",
       "</style>\n",
       "<table border=\"1\" class=\"dataframe\">\n",
       "  <thead>\n",
       "    <tr style=\"text-align: right;\">\n",
       "      <th></th>\n",
       "      <th>A</th>\n",
       "      <th>B</th>\n",
       "      <th>C</th>\n",
       "      <th>D</th>\n",
       "    </tr>\n",
       "  </thead>\n",
       "  <tbody>\n",
       "    <tr>\n",
       "      <th>0</th>\n",
       "      <td>0.876529</td>\n",
       "      <td>0.024433</td>\n",
       "      <td>0.554679</td>\n",
       "      <td>0.900962</td>\n",
       "    </tr>\n",
       "    <tr>\n",
       "      <th>1</th>\n",
       "      <td>0.158917</td>\n",
       "      <td>0.247287</td>\n",
       "      <td>0.038619</td>\n",
       "      <td>0.406204</td>\n",
       "    </tr>\n",
       "    <tr>\n",
       "      <th>2</th>\n",
       "      <td>0.088836</td>\n",
       "      <td>0.763975</td>\n",
       "      <td>0.743225</td>\n",
       "      <td>0.852811</td>\n",
       "    </tr>\n",
       "    <tr>\n",
       "      <th>3</th>\n",
       "      <td>0.496724</td>\n",
       "      <td>0.529605</td>\n",
       "      <td>0.286836</td>\n",
       "      <td>1.026329</td>\n",
       "    </tr>\n",
       "    <tr>\n",
       "      <th>4</th>\n",
       "      <td>0.946466</td>\n",
       "      <td>0.673888</td>\n",
       "      <td>0.078722</td>\n",
       "      <td>1.620354</td>\n",
       "    </tr>\n",
       "  </tbody>\n",
       "</table>\n",
       "</div>"
      ],
      "text/plain": [
       "          A         B         C         D\n",
       "0  0.876529  0.024433  0.554679  0.900962\n",
       "1  0.158917  0.247287  0.038619  0.406204\n",
       "2  0.088836  0.763975  0.743225  0.852811\n",
       "3  0.496724  0.529605  0.286836  1.026329\n",
       "4  0.946466  0.673888  0.078722  1.620354"
      ]
     },
     "execution_count": 69,
     "metadata": {},
     "output_type": "execute_result"
    }
   ],
   "source": [
    "df.head()"
   ]
  },
  {
   "cell_type": "markdown",
   "id": "4710b9f6",
   "metadata": {},
   "source": [
    " so if inplace is True the operation is performed            \n",
    "but nothing is returned            \n",
    "whereas if inplace is False the copy is returned"
   ]
  },
  {
   "cell_type": "markdown",
   "id": "9689060e",
   "metadata": {},
   "source": [
    "# using local variables"
   ]
  },
  {
   "cell_type": "code",
   "execution_count": 84,
   "id": "155cc334",
   "metadata": {},
   "outputs": [
    {
     "data": {
      "text/plain": [
       "A    0.482810\n",
       "B    0.496091\n",
       "C    0.497669\n",
       "dtype: float64"
      ]
     },
     "execution_count": 84,
     "metadata": {},
     "output_type": "execute_result"
    }
   ],
   "source": [
    "col_mean = df.mean(0) #if 0 means column wise\n",
    "col_mean"
   ]
  },
  {
   "cell_type": "code",
   "execution_count": 86,
   "id": "2e4543a0",
   "metadata": {
    "scrolled": true
   },
   "outputs": [
    {
     "name": "stdout",
     "output_type": "stream",
     "text": [
      "True\n"
     ]
    },
    {
     "data": {
      "text/plain": [
       "0      0.475500\n",
       "1      0.521169\n",
       "2      0.290729\n",
       "3      0.641305\n",
       "4      0.725164\n",
       "         ...   \n",
       "995    0.746545\n",
       "996    0.370248\n",
       "997    0.309265\n",
       "998    0.522645\n",
       "999    0.656161\n",
       "Length: 1000, dtype: float64"
      ]
     },
     "execution_count": 86,
     "metadata": {},
     "output_type": "execute_result"
    }
   ],
   "source": [
    "row_mean = df.mean(1) #if 1 means row wise\n",
    "result1 = df['A']+row_mean\n",
    "result2 = df.eval('A + @row_mean')\n",
    "print(np.allclose(result1,result2))\n",
    "row_mean"
   ]
  },
  {
   "cell_type": "code",
   "execution_count": 90,
   "id": "306f5a3e",
   "metadata": {},
   "outputs": [
    {
     "data": {
      "text/plain": [
       "A    0.482810\n",
       "B    0.496091\n",
       "C    0.497669\n",
       "dtype: float64"
      ]
     },
     "execution_count": 90,
     "metadata": {},
     "output_type": "execute_result"
    }
   ],
   "source": [
    "col_mean = df.mean(0) #if 0 means column wise\n",
    "col_mean"
   ]
  },
  {
   "cell_type": "code",
   "execution_count": 91,
   "id": "24f983a4",
   "metadata": {},
   "outputs": [],
   "source": [
    "result1 = df['A']+col_mean\n",
    "result2 = df.eval('A + @col_mean')"
   ]
  },
  {
   "cell_type": "code",
   "execution_count": 92,
   "id": "670d074e",
   "metadata": {},
   "outputs": [
    {
     "data": {
      "text/plain": [
       "0     NaN\n",
       "1     NaN\n",
       "2     NaN\n",
       "3     NaN\n",
       "4     NaN\n",
       "       ..\n",
       "998   NaN\n",
       "999   NaN\n",
       "A     NaN\n",
       "B     NaN\n",
       "C     NaN\n",
       "Length: 1003, dtype: float64"
      ]
     },
     "execution_count": 92,
     "metadata": {},
     "output_type": "execute_result"
    }
   ],
   "source": [
    "result1"
   ]
  },
  {
   "cell_type": "markdown",
   "id": "1cda01c3",
   "metadata": {},
   "source": [
    " this is because A column has 1000 values but col_mean variable has only 3 values                \n",
    "you cannot possibly add 3 values and 100 values together and hence NaN            \n"
   ]
  },
  {
   "cell_type": "markdown",
   "id": "b3716dd3",
   "metadata": {},
   "source": [
    "# Query () is used for filter operation"
   ]
  },
  {
   "cell_type": "code",
   "execution_count": 94,
   "id": "3b025f22",
   "metadata": {},
   "outputs": [
    {
     "data": {
      "text/plain": [
       "True"
      ]
     },
     "execution_count": 94,
     "metadata": {},
     "output_type": "execute_result"
    }
   ],
   "source": [
    "result1 = df[(df.A < 0.5) & (df.B < 0.5)]\n",
    "result2 = pd.eval('df[(df.A < 0.5) & (df.B < 0.5)]')\n",
    "np.allclose(result1 , result2)"
   ]
  },
  {
   "cell_type": "code",
   "execution_count": 95,
   "id": "9af5db72",
   "metadata": {},
   "outputs": [
    {
     "data": {
      "text/plain": [
       "True"
      ]
     },
     "execution_count": 95,
     "metadata": {},
     "output_type": "execute_result"
    }
   ],
   "source": [
    "result3 = df.query('A < 0.5 and B < 0.5')\n",
    "np.allclose(result1,result2)"
   ]
  },
  {
   "cell_type": "markdown",
   "id": "0d034b37",
   "metadata": {},
   "source": [
    " here we simply just use A and < or > directly"
   ]
  },
  {
   "cell_type": "code",
   "execution_count": 96,
   "id": "0813cd56",
   "metadata": {},
   "outputs": [
    {
     "data": {
      "text/plain": [
       "True"
      ]
     },
     "execution_count": 96,
     "metadata": {},
     "output_type": "execute_result"
    }
   ],
   "source": [
    "Cmean = df['C'].mean()\n",
    "result1 = df[(df.A < Cmean) & (df.B <Cmean)]\n",
    "result2 = df.query('A < @Cmean and B < @Cmean')\n",
    "np.allclose(result1,result2)"
   ]
  },
  {
   "cell_type": "markdown",
   "id": "fd1748a9",
   "metadata": {},
   "source": [
    "since we use local variables such as Cmean we use @ symbol while accessing                \n",
    "local variables in a query()"
   ]
  },
  {
   "cell_type": "code",
   "execution_count": null,
   "id": "83e38a48",
   "metadata": {},
   "outputs": [],
   "source": []
  }
 ],
 "metadata": {
  "kernelspec": {
   "display_name": "Python 3 (ipykernel)",
   "language": "python",
   "name": "python3"
  },
  "language_info": {
   "codemirror_mode": {
    "name": "ipython",
    "version": 3
   },
   "file_extension": ".py",
   "mimetype": "text/x-python",
   "name": "python",
   "nbconvert_exporter": "python",
   "pygments_lexer": "ipython3",
   "version": "3.10.9"
  }
 },
 "nbformat": 4,
 "nbformat_minor": 5
}
