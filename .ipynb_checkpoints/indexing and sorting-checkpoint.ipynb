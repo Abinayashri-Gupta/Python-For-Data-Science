{
 "cells": [
  {
   "cell_type": "code",
   "execution_count": 24,
   "id": "d0361ade",
   "metadata": {},
   "outputs": [],
   "source": [
    "import numpy as np"
   ]
  },
  {
   "cell_type": "code",
   "execution_count": 25,
   "id": "94fd0319",
   "metadata": {},
   "outputs": [
    {
     "data": {
      "text/plain": [
       "array([ 4,  5, 10, 11, 67, 89])"
      ]
     },
     "execution_count": 25,
     "metadata": {},
     "output_type": "execute_result"
    }
   ],
   "source": [
    "a=np.array([10,11,4,5,67,89])\n",
    "np.sort(a)"
   ]
  },
  {
   "cell_type": "code",
   "execution_count": 26,
   "id": "9b2b0dc4",
   "metadata": {},
   "outputs": [
    {
     "data": {
      "text/plain": [
       "array([4, 3, 2, 1, 0], dtype=int64)"
      ]
     },
     "execution_count": 26,
     "metadata": {},
     "output_type": "execute_result"
    }
   ],
   "source": [
    "b=np.array([9,8,7,6,5])\n",
    "np.argsort(b) #returns the index value of the sorted array \n",
    "#with comparison to the original b array"
   ]
  },
  {
   "cell_type": "markdown",
   "id": "29946a3a",
   "metadata": {},
   "source": [
    "# using two dimensional"
   ]
  },
  {
   "cell_type": "code",
   "execution_count": 28,
   "id": "9c8dcb18",
   "metadata": {},
   "outputs": [
    {
     "data": {
      "text/plain": [
       "array([[6, 3, 7, 4],\n",
       "       [6, 9, 2, 6],\n",
       "       [7, 4, 3, 7],\n",
       "       [7, 2, 5, 4]])"
      ]
     },
     "execution_count": 28,
     "metadata": {},
     "output_type": "execute_result"
    }
   ],
   "source": [
    "c=np.random.RandomState(42) #like seed\n",
    "x=c.randint(0,10,(4,4))\n",
    "x"
   ]
  },
  {
   "cell_type": "code",
   "execution_count": 29,
   "id": "9b233bbf",
   "metadata": {},
   "outputs": [
    {
     "data": {
      "text/plain": [
       "array([[6, 2, 2, 4],\n",
       "       [6, 3, 3, 4],\n",
       "       [7, 4, 5, 6],\n",
       "       [7, 9, 7, 7]])"
      ]
     },
     "execution_count": 29,
     "metadata": {},
     "output_type": "execute_result"
    }
   ],
   "source": [
    "np.sort(x,axis=0)#column wise sorting since axis=0"
   ]
  },
  {
   "cell_type": "code",
   "execution_count": 30,
   "id": "f848d0a1",
   "metadata": {},
   "outputs": [
    {
     "data": {
      "text/plain": [
       "array([[3, 4, 6, 7],\n",
       "       [2, 6, 6, 9],\n",
       "       [3, 4, 7, 7],\n",
       "       [2, 4, 5, 7]])"
      ]
     },
     "execution_count": 30,
     "metadata": {},
     "output_type": "execute_result"
    }
   ],
   "source": [
    "np.sort(x,axis=1) #row wise sorting since axis=1"
   ]
  },
  {
   "cell_type": "code",
   "execution_count": 31,
   "id": "223ed4ab",
   "metadata": {},
   "outputs": [
    {
     "data": {
      "text/plain": [
       "array([[-7, -6, -4, -3],\n",
       "       [-9, -6, -6, -2],\n",
       "       [-7, -7, -4, -3],\n",
       "       [-7, -5, -4, -2]])"
      ]
     },
     "execution_count": 31,
     "metadata": {},
     "output_type": "execute_result"
    }
   ],
   "source": [
    "np.sort(-x) #multipying original by -ve"
   ]
  },
  {
   "cell_type": "code",
   "execution_count": 32,
   "id": "b60591af",
   "metadata": {},
   "outputs": [
    {
     "data": {
      "text/plain": [
       "array([[-7, -9, -7, -7],\n",
       "       [-7, -4, -5, -6],\n",
       "       [-6, -3, -3, -4],\n",
       "       [-6, -2, -2, -4]])"
      ]
     },
     "execution_count": 32,
     "metadata": {},
     "output_type": "execute_result"
    }
   ],
   "source": [
    "np.sort(-x,axis=0) #column wise sorting since axis =0 and note -7 is less than -6 since negative values "
   ]
  },
  {
   "cell_type": "code",
   "execution_count": 33,
   "id": "a0ecc1d3",
   "metadata": {},
   "outputs": [
    {
     "data": {
      "text/plain": [
       "array([[-7, -6, -4, -3],\n",
       "       [-9, -6, -6, -2],\n",
       "       [-7, -7, -4, -3],\n",
       "       [-7, -5, -4, -2]])"
      ]
     },
     "execution_count": 33,
     "metadata": {},
     "output_type": "execute_result"
    }
   ],
   "source": [
    "np.sort(-x,axis=1)"
   ]
  },
  {
   "cell_type": "markdown",
   "id": "c426cd1c",
   "metadata": {},
   "source": [
    "# sorting alphabetically"
   ]
  },
  {
   "cell_type": "code",
   "execution_count": 35,
   "id": "0148cf7c",
   "metadata": {},
   "outputs": [
    {
     "data": {
      "text/plain": [
       "array(['abinaya', 'krithika', 'nava', 'praveenasri'], dtype='<U11')"
      ]
     },
     "execution_count": 35,
     "metadata": {},
     "output_type": "execute_result"
    }
   ],
   "source": [
    "arr=np.array(['abinaya','krithika','praveenasri','nava'])\n",
    "np.sort(arr)"
   ]
  },
  {
   "cell_type": "code",
   "execution_count": 36,
   "id": "a3b091c8",
   "metadata": {},
   "outputs": [],
   "source": [
    "#sorting a boolean array"
   ]
  },
  {
   "cell_type": "code",
   "execution_count": 37,
   "id": "9101b2a7",
   "metadata": {},
   "outputs": [
    {
     "data": {
      "text/plain": [
       "array([False, False,  True,  True])"
      ]
     },
     "execution_count": 37,
     "metadata": {},
     "output_type": "execute_result"
    }
   ],
   "source": [
    "arr2=np.array([True,False,True,False])\n",
    "np.sort(arr2)"
   ]
  },
  {
   "cell_type": "code",
   "execution_count": 39,
   "id": "4c6cd945",
   "metadata": {},
   "outputs": [],
   "source": [
    "#sorting 2d array"
   ]
  },
  {
   "cell_type": "code",
   "execution_count": 40,
   "id": "5face930",
   "metadata": {},
   "outputs": [
    {
     "data": {
      "text/plain": [
       "array([[ 5,  7, 16],\n",
       "       [ 1,  8,  9]])"
      ]
     },
     "execution_count": 40,
     "metadata": {},
     "output_type": "execute_result"
    }
   ],
   "source": [
    "d2=np.array([[5,16,7],[8,9,1]])\n",
    "np.sort(d2)"
   ]
  },
  {
   "cell_type": "markdown",
   "id": "1d7e8d3a",
   "metadata": {},
   "source": [
    "# lexsort"
   ]
  },
  {
   "cell_type": "code",
   "execution_count": 46,
   "id": "b56a9ce2",
   "metadata": {},
   "outputs": [
    {
     "data": {
      "text/plain": [
       "array([[ 5, 16,  7],\n",
       "       [ 8,  9,  1]])"
      ]
     },
     "execution_count": 46,
     "metadata": {},
     "output_type": "execute_result"
    }
   ],
   "source": [
    "d2"
   ]
  },
  {
   "cell_type": "code",
   "execution_count": 45,
   "id": "a65d3b68",
   "metadata": {},
   "outputs": [
    {
     "data": {
      "text/plain": [
       "array([2, 0, 1], dtype=int64)"
      ]
     },
     "execution_count": 45,
     "metadata": {},
     "output_type": "execute_result"
    }
   ],
   "source": [
    "np.lexsort(d2,axis=0)"
   ]
  },
  {
   "cell_type": "code",
   "execution_count": 48,
   "id": "9809fc3b",
   "metadata": {},
   "outputs": [
    {
     "data": {
      "text/plain": [
       "array([1, 2, 0], dtype=int64)"
      ]
     },
     "execution_count": 48,
     "metadata": {},
     "output_type": "execute_result"
    }
   ],
   "source": [
    "surnames =    ('Hertz',    'Galilei', 'Hertz')\n",
    "first_names = ('Heinrich', 'Galileo', 'Gustav')\n",
    "ind = np.lexsort((first_names, surnames))\n",
    "ind"
   ]
  },
  {
   "cell_type": "code",
   "execution_count": 49,
   "id": "c4d219b3",
   "metadata": {},
   "outputs": [
    {
     "data": {
      "text/plain": [
       "['Galilei, Galileo', 'Hertz, Gustav', 'Hertz, Heinrich']"
      ]
     },
     "execution_count": 49,
     "metadata": {},
     "output_type": "execute_result"
    }
   ],
   "source": [
    "[surnames[i] + \", \" + first_names[i] for i in ind]"
   ]
  },
  {
   "cell_type": "markdown",
   "id": "72838f72",
   "metadata": {},
   "source": [
    "# Sort two columns of numbers:"
   ]
  },
  {
   "cell_type": "code",
   "execution_count": 50,
   "id": "7eab6dd9",
   "metadata": {},
   "outputs": [
    {
     "data": {
      "text/plain": [
       "array([2, 0, 4, 6, 5, 3, 1], dtype=int64)"
      ]
     },
     "execution_count": 50,
     "metadata": {},
     "output_type": "execute_result"
    }
   ],
   "source": [
    "a = [1,5,1,4,3,4,4] # First column\n",
    "b = [9,4,0,4,0,2,1] # Second column\n",
    "ind = np.lexsort((b,a)) # Sort by a, then by b\n",
    "ind"
   ]
  },
  {
   "cell_type": "code",
   "execution_count": 51,
   "id": "39a000db",
   "metadata": {},
   "outputs": [
    {
     "data": {
      "text/plain": [
       "[(1, 0), (1, 9), (3, 0), (4, 1), (4, 2), (4, 4), (5, 4)]"
      ]
     },
     "execution_count": 51,
     "metadata": {},
     "output_type": "execute_result"
    }
   ],
   "source": [
    "[(a[i],b[i]) for i in ind]"
   ]
  },
  {
   "cell_type": "markdown",
   "id": "8073a692",
   "metadata": {},
   "source": [
    "# indexing"
   ]
  },
  {
   "cell_type": "code",
   "execution_count": 52,
   "id": "82d3e348",
   "metadata": {},
   "outputs": [
    {
     "name": "stdout",
     "output_type": "stream",
     "text": [
      "1\n"
     ]
    }
   ],
   "source": [
    "arr=np.array([1,2,3,4])\n",
    "print(arr[0])"
   ]
  },
  {
   "cell_type": "code",
   "execution_count": 53,
   "id": "2fa06334",
   "metadata": {},
   "outputs": [
    {
     "data": {
      "text/plain": [
       "5"
      ]
     },
     "execution_count": 53,
     "metadata": {},
     "output_type": "execute_result"
    }
   ],
   "source": [
    "arr[1]+arr[2]"
   ]
  },
  {
   "cell_type": "markdown",
   "id": "63b165ab",
   "metadata": {},
   "source": [
    "# accessing 2d array"
   ]
  },
  {
   "cell_type": "code",
   "execution_count": 57,
   "id": "0de4a34e",
   "metadata": {},
   "outputs": [
    {
     "data": {
      "text/plain": [
       "array([[0, 6, 0, 6, 4],\n",
       "       [1, 1, 2, 6, 5]])"
      ]
     },
     "execution_count": 57,
     "metadata": {},
     "output_type": "execute_result"
    }
   ],
   "source": [
    "arr=np.random.randint(0,10,size=[2,5])\n",
    "arr"
   ]
  },
  {
   "cell_type": "markdown",
   "id": "3d417f63",
   "metadata": {},
   "source": [
    "### Second element in first row"
   ]
  },
  {
   "cell_type": "code",
   "execution_count": 58,
   "id": "65140113",
   "metadata": {},
   "outputs": [
    {
     "data": {
      "text/plain": [
       "6"
      ]
     },
     "execution_count": 58,
     "metadata": {},
     "output_type": "execute_result"
    }
   ],
   "source": [
    "arr[0,1]"
   ]
  },
  {
   "cell_type": "markdown",
   "id": "c39d8d8c",
   "metadata": {},
   "source": [
    "### Second row 5th column"
   ]
  },
  {
   "cell_type": "code",
   "execution_count": 60,
   "id": "475da9e2",
   "metadata": {},
   "outputs": [
    {
     "data": {
      "text/plain": [
       "5"
      ]
     },
     "execution_count": 60,
     "metadata": {},
     "output_type": "execute_result"
    }
   ],
   "source": [
    "arr[1,4]"
   ]
  },
  {
   "cell_type": "markdown",
   "id": "03f37fe4",
   "metadata": {},
   "source": [
    "# Accessing 3D array"
   ]
  },
  {
   "cell_type": "code",
   "execution_count": 63,
   "id": "acfc48cc",
   "metadata": {},
   "outputs": [],
   "source": [
    "arr=np.random.randint(1,30,size=[2,2,3])"
   ]
  },
  {
   "cell_type": "code",
   "execution_count": 64,
   "id": "ba8d5e2a",
   "metadata": {},
   "outputs": [
    {
     "data": {
      "text/plain": [
       "array([[[29,  4, 22],\n",
       "        [ 8, 28,  5]],\n",
       "\n",
       "       [[26, 19, 28],\n",
       "        [15, 27, 21]]])"
      ]
     },
     "execution_count": 64,
     "metadata": {},
     "output_type": "execute_result"
    }
   ],
   "source": [
    "arr"
   ]
  },
  {
   "cell_type": "code",
   "execution_count": 65,
   "id": "61def8be",
   "metadata": {},
   "outputs": [
    {
     "data": {
      "text/plain": [
       "5"
      ]
     },
     "execution_count": 65,
     "metadata": {},
     "output_type": "execute_result"
    }
   ],
   "source": [
    "arr[0,1,2]"
   ]
  },
  {
   "cell_type": "markdown",
   "id": "b7572d04",
   "metadata": {},
   "source": [
    "### where method in np"
   ]
  },
  {
   "cell_type": "code",
   "execution_count": 66,
   "id": "590ac394",
   "metadata": {},
   "outputs": [
    {
     "data": {
      "text/plain": [
       "(array([2, 3, 4], dtype=int64),)"
      ]
     },
     "execution_count": 66,
     "metadata": {},
     "output_type": "execute_result"
    }
   ],
   "source": [
    "obj=np.array([10,11,34,56,90,9])\n",
    "np.where(obj>15)"
   ]
  },
  {
   "cell_type": "markdown",
   "id": "863955ee",
   "metadata": {},
   "source": [
    "### non-zero method in np"
   ]
  },
  {
   "cell_type": "code",
   "execution_count": 67,
   "id": "cdf4ed61",
   "metadata": {},
   "outputs": [
    {
     "data": {
      "text/plain": [
       "array([[0, 1, 2, 3, 4, 5]], dtype=int64)"
      ]
     },
     "execution_count": 67,
     "metadata": {},
     "output_type": "execute_result"
    }
   ],
   "source": [
    "np.array(obj.nonzero())"
   ]
  }
 ],
 "metadata": {
  "kernelspec": {
   "display_name": "Python 3 (ipykernel)",
   "language": "python",
   "name": "python3"
  },
  "language_info": {
   "codemirror_mode": {
    "name": "ipython",
    "version": 3
   },
   "file_extension": ".py",
   "mimetype": "text/x-python",
   "name": "python",
   "nbconvert_exporter": "python",
   "pygments_lexer": "ipython3",
   "version": "3.10.9"
  }
 },
 "nbformat": 4,
 "nbformat_minor": 5
}
